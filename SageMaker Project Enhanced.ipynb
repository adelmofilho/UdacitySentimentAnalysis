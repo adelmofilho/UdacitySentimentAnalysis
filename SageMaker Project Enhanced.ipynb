{
 "cells": [
  {
   "cell_type": "code",
   "execution_count": 1,
   "metadata": {},
   "outputs": [],
   "source": [
    "import os\n",
    "import pandas as pd"
   ]
  },
  {
   "cell_type": "code",
   "execution_count": 2,
   "metadata": {},
   "outputs": [],
   "source": [
    "data_dir = \"data\"\n",
    "data_folder = \"aclImdb\"\n",
    "data_url = \"http://ai.stanford.edu/~amaas/data/sentiment/aclImdb_v1.tar.gz\"\n",
    "filename = \"aclImdb_v1.tar.gz\"\n",
    "sample_idx = 42\n",
    "cache_dir = os.path.join(\"cache\", \"sentiment_analysis\")\n",
    "pytorch_dir = 'data/pytorch' # The folder we will use for storing data"
   ]
  },
  {
   "cell_type": "markdown",
   "metadata": {},
   "source": [
    "### Step 1: Downloading the data"
   ]
  },
  {
   "cell_type": "code",
   "execution_count": 3,
   "metadata": {},
   "outputs": [],
   "source": [
    "import tarfile\n",
    "from urllib.request import urlretrieve\n",
    "from pathlib import Path\n",
    "\n",
    "def download_data(data_dir, data_url, filename):\n",
    "    Path(data_dir).mkdir(parents=True, exist_ok=True)\n",
    "    download = urlretrieve(url=data_url, filename=Path(data_dir).joinpath(filename))\n",
    "    tar = tarfile.open(name=download[0], mode='r|*')\n",
    "    tar.extractall(data_dir)\n",
    "    tar.close()"
   ]
  },
  {
   "cell_type": "code",
   "execution_count": 4,
   "metadata": {},
   "outputs": [],
   "source": [
    "download_data(data_dir, data_url, filename)"
   ]
  },
  {
   "cell_type": "code",
   "execution_count": 5,
   "metadata": {},
   "outputs": [],
   "source": [
    "import os\n",
    "import glob\n",
    "from pathlib import Path\n",
    "\n",
    "def read_imdb_data(data_dir, data_folder):\n",
    "    imdb_dir = Path(data_dir).joinpath(data_folder)\n",
    "    data = {}\n",
    "    labels = {}\n",
    "    \n",
    "    for data_type in ['train', 'test']:\n",
    "        data[data_type] = {}\n",
    "        labels[data_type] = {}\n",
    "        \n",
    "        for sentiment in ['pos', 'neg']:\n",
    "            data[data_type][sentiment] = []\n",
    "            labels[data_type][sentiment] = []\n",
    "            \n",
    "            path = os.path.join(imdb_dir, data_type, sentiment, '*.txt')\n",
    "            files = glob.glob(path)\n",
    "            \n",
    "            for f in files:\n",
    "                with open(f) as review:\n",
    "                    data[data_type][sentiment].append(review.read())\n",
    "                    # Here we represent a positive review by '1' and a negative review by '0'\n",
    "                    labels[data_type][sentiment].append(1 if sentiment == 'pos' else 0)\n",
    "                    \n",
    "            assert len(data[data_type][sentiment]) == len(labels[data_type][sentiment]), \\\n",
    "                    \"{}/{} data size does not match labels size\".format(data_type, sentiment)\n",
    "                \n",
    "    return data, labels"
   ]
  },
  {
   "cell_type": "code",
   "execution_count": 6,
   "metadata": {},
   "outputs": [],
   "source": [
    "data, labels = read_imdb_data(data_dir, data_folder)"
   ]
  },
  {
   "cell_type": "code",
   "execution_count": 7,
   "metadata": {},
   "outputs": [
    {
     "name": "stdout",
     "output_type": "stream",
     "text": [
      "IMDB reviews: train = 12500 pos / 12500 neg, test = 12500 pos / 12500 neg\n"
     ]
    }
   ],
   "source": [
    "print(\"IMDB reviews: train = {} pos / {} neg, test = {} pos / {} neg\".format(\n",
    "            len(data['train']['pos']), len(data['train']['neg']),\n",
    "            len(data['test']['pos']), len(data['test']['neg'])))"
   ]
  },
  {
   "cell_type": "code",
   "execution_count": 8,
   "metadata": {},
   "outputs": [],
   "source": [
    "from sklearn.utils import shuffle\n",
    "\n",
    "def prepare_imdb_data(data, labels):\n",
    "    \"\"\"Prepare training and test sets from IMDb movie reviews.\"\"\"\n",
    "    \n",
    "    #Combine positive and negative reviews and labels\n",
    "    data_train = data['train']['pos'] + data['train']['neg']\n",
    "    data_test = data['test']['pos'] + data['test']['neg']\n",
    "    labels_train = labels['train']['pos'] + labels['train']['neg']\n",
    "    labels_test = labels['test']['pos'] + labels['test']['neg']\n",
    "    \n",
    "    #Shuffle reviews and corresponding labels within training and test sets\n",
    "    data_train, labels_train = shuffle(data_train, labels_train)\n",
    "    data_test, labels_test = shuffle(data_test, labels_test)\n",
    "    \n",
    "    # Return a unified training data, test data, training labels, test labets\n",
    "    return data_train, data_test, labels_train, labels_test"
   ]
  },
  {
   "cell_type": "code",
   "execution_count": 9,
   "metadata": {},
   "outputs": [],
   "source": [
    "train_valid_X, test_X, train_valid_y, test_y = prepare_imdb_data(data, labels)"
   ]
  },
  {
   "cell_type": "code",
   "execution_count": 10,
   "metadata": {},
   "outputs": [],
   "source": [
    "from sklearn.model_selection import train_test_split\n",
    "\n",
    "def split_train_validation_data(train_valid_X, train_valid_y, valid_size=0.3, random_state=42):\n",
    "    train_X, valid_X, train_y, valid_y = train_test_split(train_valid_X,\n",
    "                                                          train_valid_y, \n",
    "                                                          test_size=valid_size, \n",
    "                                                          random_state=random_state)\n",
    "    return train_X, valid_X, train_y, valid_y"
   ]
  },
  {
   "cell_type": "code",
   "execution_count": 11,
   "metadata": {},
   "outputs": [],
   "source": [
    "train_X, valid_X, train_y, valid_y = split_train_validation_data(train_valid_X, train_valid_y, valid_size=0.3)"
   ]
  },
  {
   "cell_type": "code",
   "execution_count": 12,
   "metadata": {},
   "outputs": [
    {
     "name": "stdout",
     "output_type": "stream",
     "text": [
      "IMDb reviews (combined): train = 17500, valid = 7500, test = 25000\n"
     ]
    }
   ],
   "source": [
    "print(\"IMDb reviews (combined): train = {}, valid = {}, test = {}\".format(len(train_X), len(valid_X),len(test_X)))"
   ]
  },
  {
   "cell_type": "code",
   "execution_count": 13,
   "metadata": {},
   "outputs": [
    {
     "name": "stdout",
     "output_type": "stream",
     "text": [
      "sentiment: 0\n",
      "review: I wasn't as \"lucky\" as some of the others commenting on this film: i have never seen anything else out of the...shall we say... \"fecund\" mind of Sarno. I agree with many: some of the actresses who spend a lot of time topless and (go-go) dancing are not really that attractive. I kinda liked Fraulein Crank(?)...she was so homely , she was cute! The acting was pretty stale, also, though delivering lines in a second language might have accounted for a lot of that problem. Trying to follow the plot was a major chore: was there one, really? I do heartily agree with one other comment: for a vampire movie, there's not much blood. Yep, if you want GOOD bloodsucking flicks, check out such Hammer classics as \"Horror of Dracula\" and (my personal favourite) \"Brides of Dracula\".<br /><br />The most (unintentionally) humorous part is where the lady doctor gets her clothes torn off by a cloud of bats...which you never SEE!...the bats, I mean.<br /><br />Okay as a time-waster if you happen to catch it on cable here in the Great White North but, for heaven's sake, don't rent it!\n"
     ]
    }
   ],
   "source": [
    "print(f\"sentiment: {train_y[sample_idx]}\")\n",
    "print(f\"review: {train_X[sample_idx]}\")"
   ]
  },
  {
   "cell_type": "code",
   "execution_count": 14,
   "metadata": {},
   "outputs": [
    {
     "name": "stdout",
     "output_type": "stream",
     "text": [
      "sentiment: 1\n",
      "review: I really liked this Summerslam due to the look of the arena, the curtains and just the look overall was interesting to me for some reason. Anyways, this could have been one of the best Summerslam's ever if the WWF didn't have Lex Luger in the main event against Yokozuna, now for it's time it was ok to have a huge fat man vs a strong man but I'm glad times have changed. It was a terrible main event just like every match Luger is in is terrible. Other matches on the card were Razor Ramon vs Ted Dibiase, Steiner Brothers vs Heavenly Bodies, Shawn Michaels vs Curt Hening, this was the event where Shawn named his big monster of a body guard Diesel, IRS vs 1-2-3 Kid, Bret Hart first takes on Doink then takes on Jerry Lawler and stuff with the Harts and Lawler was always very interesting, then Ludvig Borga destroyed Marty Jannetty, Undertaker took on Giant Gonzalez in another terrible match, The Smoking Gunns and Tatanka took on Bam Bam Bigelow and the Headshrinkers, and Yokozuna defended the world title against Lex Luger this match was boring and it has a terrible ending. However it deserves 8/10\n"
     ]
    }
   ],
   "source": [
    "print(f\"sentiment: {valid_y[sample_idx]}\")\n",
    "print(f\"review: {valid_X[sample_idx]}\")"
   ]
  },
  {
   "cell_type": "code",
   "execution_count": 15,
   "metadata": {},
   "outputs": [
    {
     "name": "stdout",
     "output_type": "stream",
     "text": [
      "sentiment: 0\n",
      "review: To call a film boring is not something I would usually count as a valid criticism. However, when a film is crassly made of spare parts from other films that weren't that good to begin with, and it is slow as molasses with no real payoff, I think it's fair to call a spade a spade. And The Ghost is a very boring film.<br /><br />A movie that is about as original as its' name, The Ghost tells the story of a young girl with amnesia being haunted by a ghost that holds the secret to her past. Only, it's a whole lot more complicated and less interesting than one would think.<br /><br />The plot line is almost incomprehensible for most of the picture and the hook, the amnesia element, only makes things worse. It seems that no one, including the screenwriter and director have any clue what the hell is happening at any given moment. Instead they chose to do what roughly amounts to the filmic equivalent of a sitcom clip show. There are scenes taken directly from Ringu, Dark Water, Shutter, The Grudge series, and a smattering of Pulse for good measure. Making matters worse, the half dozen female leads all dress and read their lines alike, making them impossible to tell apart.<br /><br />There is just nothing to grasp onto with this film. The story isn't all that well thought out. The amnesia gimmick is lazy. The mystery element is un-involving and handled with little grace. The characters never deduce anything, all the information is just handed out through the lead remembering her past whenever it is convenient for the plot.<br /><br />The cinematography, full of reflections and shots of water at least attempts to add to the subtext, a thematic link with the amnesia and the final twist (which I won't reveal) is nice, but often overwrought. Even the score feels borrowed and cliché.<br /><br />Worst of all, the inciting action for the curse isn't very interesting and the final twist is predictable and lame. \"Wait, you mean that one character who has 15 minutes of screen time but appeared to have nothing to do with the plot comes back in the end? No!\" Audiences are too savvy for this kind of tripe. Anyone who has seen any of the films that this rips off will find very little to even keep them awake with this feature. I used to think Shimizu was the bottom of the barrel for this kind of crap (remaking his grudge film no less than 5 times) but even his second rate work like Reincarnation, a film I couldn't even bring my self to finish, is miles ahead of this.<br /><br />For more reviews please visit www.collider.com\n"
     ]
    }
   ],
   "source": [
    "print(f\"sentiment: {test_y[sample_idx]}\")\n",
    "print(f\"review: {test_X[sample_idx]}\")"
   ]
  },
  {
   "cell_type": "code",
   "execution_count": 16,
   "metadata": {},
   "outputs": [],
   "source": [
    "import nltk\n",
    "from nltk.corpus import stopwords\n",
    "from nltk.stem.porter import *\n",
    "\n",
    "import re\n",
    "from bs4 import BeautifulSoup\n",
    "\n",
    "def review_to_words(review):\n",
    "    nltk.download(\"stopwords\", quiet=True)\n",
    "    stemmer = PorterStemmer()\n",
    "    \n",
    "    text = BeautifulSoup(review, \"html.parser\").get_text() # Remove HTML tags\n",
    "    text = re.sub(r\"[^a-zA-Z0-9]\", \" \", text.lower()) # Convert to lower case\n",
    "    words = text.split() # Split string into words\n",
    "    words = [w for w in words if w not in stopwords.words(\"english\")] # Remove stopwords\n",
    "    words = [PorterStemmer().stem(w) for w in words] # stem\n",
    "    \n",
    "    return words"
   ]
  },
  {
   "cell_type": "code",
   "execution_count": 17,
   "metadata": {},
   "outputs": [
    {
     "name": "stdout",
     "output_type": "stream",
     "text": [
      "['lucki', 'other', 'comment', 'film', 'never', 'seen', 'anyth', 'els', 'shall', 'say', 'fecund', 'mind', 'sarno', 'agre', 'mani', 'actress', 'spend', 'lot', 'time', 'topless', 'go', 'go', 'danc', 'realli', 'attract', 'kinda', 'like', 'fraulein', 'crank', 'home', 'cute', 'act', 'pretti', 'stale', 'also', 'though', 'deliv', 'line', 'second', 'languag', 'might', 'account', 'lot', 'problem', 'tri', 'follow', 'plot', 'major', 'chore', 'one', 'realli', 'heartili', 'agre', 'one', 'comment', 'vampir', 'movi', 'much', 'blood', 'yep', 'want', 'good', 'bloodsuck', 'flick', 'check', 'hammer', 'classic', 'horror', 'dracula', 'person', 'favourit', 'bride', 'dracula', 'unintent', 'humor', 'part', 'ladi', 'doctor', 'get', 'cloth', 'torn', 'cloud', 'bat', 'never', 'see', 'bat', 'mean', 'okay', 'time', 'waster', 'happen', 'catch', 'cabl', 'great', 'white', 'north', 'heaven', 'sake', 'rent']\n"
     ]
    }
   ],
   "source": [
    "print(review_to_words(train_X[sample_idx]))"
   ]
  },
  {
   "cell_type": "code",
   "execution_count": 18,
   "metadata": {},
   "outputs": [
    {
     "name": "stdout",
     "output_type": "stream",
     "text": [
      "['realli', 'like', 'summerslam', 'due', 'look', 'arena', 'curtain', 'look', 'overal', 'interest', 'reason', 'anyway', 'could', 'one', 'best', 'summerslam', 'ever', 'wwf', 'lex', 'luger', 'main', 'event', 'yokozuna', 'time', 'ok', 'huge', 'fat', 'man', 'vs', 'strong', 'man', 'glad', 'time', 'chang', 'terribl', 'main', 'event', 'like', 'everi', 'match', 'luger', 'terribl', 'match', 'card', 'razor', 'ramon', 'vs', 'ted', 'dibias', 'steiner', 'brother', 'vs', 'heavenli', 'bodi', 'shawn', 'michael', 'vs', 'curt', 'hene', 'event', 'shawn', 'name', 'big', 'monster', 'bodi', 'guard', 'diesel', 'ir', 'vs', '1', '2', '3', 'kid', 'bret', 'hart', 'first', 'take', 'doink', 'take', 'jerri', 'lawler', 'stuff', 'hart', 'lawler', 'alway', 'interest', 'ludvig', 'borga', 'destroy', 'marti', 'jannetti', 'undertak', 'took', 'giant', 'gonzalez', 'anoth', 'terribl', 'match', 'smoke', 'gunn', 'tatanka', 'took', 'bam', 'bam', 'bigelow', 'headshrink', 'yokozuna', 'defend', 'world', 'titl', 'lex', 'luger', 'match', 'bore', 'terribl', 'end', 'howev', 'deserv', '8', '10']\n"
     ]
    }
   ],
   "source": [
    "print(review_to_words(valid_X[sample_idx]))"
   ]
  },
  {
   "cell_type": "code",
   "execution_count": 19,
   "metadata": {},
   "outputs": [
    {
     "name": "stdout",
     "output_type": "stream",
     "text": [
      "['call', 'film', 'bore', 'someth', 'would', 'usual', 'count', 'valid', 'critic', 'howev', 'film', 'crassli', 'made', 'spare', 'part', 'film', 'good', 'begin', 'slow', 'molass', 'real', 'payoff', 'think', 'fair', 'call', 'spade', 'spade', 'ghost', 'bore', 'film', 'movi', 'origin', 'name', 'ghost', 'tell', 'stori', 'young', 'girl', 'amnesia', 'haunt', 'ghost', 'hold', 'secret', 'past', 'whole', 'lot', 'complic', 'less', 'interest', 'one', 'would', 'think', 'plot', 'line', 'almost', 'incomprehens', 'pictur', 'hook', 'amnesia', 'element', 'make', 'thing', 'wors', 'seem', 'one', 'includ', 'screenwrit', 'director', 'clue', 'hell', 'happen', 'given', 'moment', 'instead', 'chose', 'roughli', 'amount', 'filmic', 'equival', 'sitcom', 'clip', 'show', 'scene', 'taken', 'directli', 'ringu', 'dark', 'water', 'shutter', 'grudg', 'seri', 'smatter', 'puls', 'good', 'measur', 'make', 'matter', 'wors', 'half', 'dozen', 'femal', 'lead', 'dress', 'read', 'line', 'alik', 'make', 'imposs', 'tell', 'apart', 'noth', 'grasp', 'onto', 'film', 'stori', 'well', 'thought', 'amnesia', 'gimmick', 'lazi', 'mysteri', 'element', 'un', 'involv', 'handl', 'littl', 'grace', 'charact', 'never', 'deduc', 'anyth', 'inform', 'hand', 'lead', 'rememb', 'past', 'whenev', 'conveni', 'plot', 'cinematographi', 'full', 'reflect', 'shot', 'water', 'least', 'attempt', 'add', 'subtext', 'themat', 'link', 'amnesia', 'final', 'twist', 'reveal', 'nice', 'often', 'overwrought', 'even', 'score', 'feel', 'borrow', 'clich', 'worst', 'incit', 'action', 'curs', 'interest', 'final', 'twist', 'predict', 'lame', 'wait', 'mean', 'one', 'charact', '15', 'minut', 'screen', 'time', 'appear', 'noth', 'plot', 'come', 'back', 'end', 'audienc', 'savvi', 'kind', 'tripe', 'anyon', 'seen', 'film', 'rip', 'find', 'littl', 'even', 'keep', 'awak', 'featur', 'use', 'think', 'shimizu', 'bottom', 'barrel', 'kind', 'crap', 'remak', 'grudg', 'film', 'less', '5', 'time', 'even', 'second', 'rate', 'work', 'like', 'reincarn', 'film', 'even', 'bring', 'self', 'finish', 'mile', 'ahead', 'review', 'pleas', 'visit', 'www', 'collid', 'com']\n"
     ]
    }
   ],
   "source": [
    "print(review_to_words(test_X[sample_idx]))"
   ]
  },
  {
   "cell_type": "code",
   "execution_count": 20,
   "metadata": {},
   "outputs": [],
   "source": [
    "import pickle\n",
    "from tqdm import tqdm\n",
    "\n",
    "\n",
    "os.makedirs(cache_dir, exist_ok=True)  # ensure cache directory exists\n",
    "def preprocess_data(data_train, data_test, data_valid, \n",
    "                    labels_train, labels_test, labels_valid,\n",
    "                    cache_dir=cache_dir, cache_file=\"preprocessed_data.pkl\"):\n",
    "    \"\"\"Convert each review to words; read from cache if available.\"\"\"\n",
    "    # If cache_file is not None, try to read from it first\n",
    "    cache_data = None\n",
    "    if cache_file is not None:\n",
    "        try:\n",
    "            with open(os.path.join(cache_dir, cache_file), \"rb\") as f:\n",
    "                cache_data = pickle.load(f)\n",
    "            print(\"Read preprocessed data from cache file:\", cache_file)\n",
    "        except:\n",
    "            pass  # unable to read from cache, but that's okay\n",
    "    # If cache is missing, then do the heavy lifting\n",
    "    if cache_data is None:\n",
    "        # Preprocess training and test data to obtain words for each review\n",
    "        #words_train = list(map(review_to_words, data_train))\n",
    "        #words_test = list(map(review_to_words, data_test))\n",
    "        words_train = [review_to_words(review) for review in tqdm(data_train)]\n",
    "        words_valid = [review_to_words(review) for review in tqdm(data_valid)]\n",
    "        words_test = [review_to_words(review) for review in tqdm(data_test)]\n",
    "        # Write to cache file for future runs\n",
    "        if cache_file is not None:\n",
    "            cache_data = dict(words_train=words_train, words_test=words_test,words_valid=words_valid,\n",
    "                              labels_train=labels_train, labels_test=labels_test, labels_valid=labels_valid)\n",
    "            with open(os.path.join(cache_dir, cache_file), \"wb\") as f:\n",
    "                pickle.dump(cache_data, f)\n",
    "            print(\"Wrote preprocessed data to cache file:\", cache_file)\n",
    "    else:\n",
    "        # Unpack data loaded from cache file\n",
    "        words_train, words_test, words_valid, labels_train, labels_test, labels_valid = (cache_data['words_train'],\n",
    "                cache_data['words_test'], cache_data['words_valid'], \n",
    "                cache_data['labels_train'], cache_data['labels_test'], cache_data['labels_valid'])\n",
    "    return words_train, words_test, words_valid, labels_train, labels_test, labels_valid"
   ]
  },
  {
   "cell_type": "code",
   "execution_count": 21,
   "metadata": {},
   "outputs": [
    {
     "name": "stderr",
     "output_type": "stream",
     "text": [
      "100%|██████████| 17500/17500 [06:36<00:00, 44.08it/s]\n",
      "100%|██████████| 7500/7500 [02:53<00:00, 43.26it/s]\n",
      "100%|██████████| 25000/25000 [09:06<00:00, 45.74it/s]\n"
     ]
    },
    {
     "name": "stdout",
     "output_type": "stream",
     "text": [
      "Wrote preprocessed data to cache file: preprocessed_data.pkl\n"
     ]
    }
   ],
   "source": [
    "train_pp_X, test_pp_X, valid_pp_X, train_pp_y, test_pp_y, valid_pp_y = preprocess_data(train_X, test_X, valid_X,\n",
    "                                                                           train_y, test_y, valid_y)"
   ]
  },
  {
   "cell_type": "code",
   "execution_count": 22,
   "metadata": {},
   "outputs": [],
   "source": [
    "import numpy as np\n",
    "\n",
    "def build_dict(data, vocab_size = 5000):\n",
    "    \"\"\"Construct and return a dictionary mapping each of the most frequently appearing words to a unique integer.\"\"\"\n",
    "    \n",
    "    # TODO: Determine how often each word appears in `data`. Note that `data` is a list of sentences and that a\n",
    "    #       sentence is a list of words.\n",
    "\n",
    "    flatten_data = [word for review in data for word in review]\n",
    "    (unique, counts) = np.unique(flatten_data, return_counts=True)   \n",
    "\n",
    "    # word_count = {}\n",
    "    # A dict storing the words that appear in the reviews along with how often they occur\n",
    "    word_count = zip_word_count = {x:y for x,y in zip(unique, counts)}\n",
    "    \n",
    "    # TODO: Sort the words found in `data` so that sorted_words[0] is the most frequently appearing word and\n",
    "    #       sorted_words[-1] is the least frequently appearing word.\n",
    "    #sorted_zip_word_count = [{key: value} for (key, value) in sorted(zip_word_count.items(), key=lambda x: x[1], reverse=True)]\n",
    "    #sorted_words = dict((key, val) for k in sorted_zip_word_count for key, val in k.items())\n",
    "    sorted_words = list(key for (key, value) in sorted(zip_word_count.items(), key=lambda x: x[1], reverse=True))\n",
    "    word_dict = {} # This is what we are building, a dictionary that translates words into integers\n",
    "    for idx, word in enumerate(sorted_words[:vocab_size - 2]): # The -2 is so that we save room for the 'no word'\n",
    "         word_dict[word] = idx + 2                              # 'infrequent' labels\n",
    "        \n",
    "    return word_dict, sorted_words, word_count"
   ]
  },
  {
   "cell_type": "code",
   "execution_count": 23,
   "metadata": {},
   "outputs": [],
   "source": [
    "word_dict, sorted_words, word_count = build_dict(train_pp_X)"
   ]
  },
  {
   "cell_type": "markdown",
   "metadata": {},
   "source": [
    "len(word_dict)"
   ]
  },
  {
   "cell_type": "markdown",
   "metadata": {},
   "source": [
    "word_dict"
   ]
  },
  {
   "cell_type": "code",
   "execution_count": 68,
   "metadata": {},
   "outputs": [],
   "source": [
    "words_to_remove = [\"movi\", \"film\"]"
   ]
  },
  {
   "cell_type": "code",
   "execution_count": 69,
   "metadata": {},
   "outputs": [],
   "source": [
    "for word in words_to_remove:\n",
    "    word_dict.pop(word)"
   ]
  },
  {
   "cell_type": "code",
   "execution_count": 70,
   "metadata": {},
   "outputs": [],
   "source": [
    "for token in word_dict:\n",
    "    word_dict[token] = word_dict[token] - len(words_to_remove)"
   ]
  },
  {
   "cell_type": "code",
   "execution_count": 71,
   "metadata": {},
   "outputs": [
    {
     "data": {
      "text/plain": [
       "4998"
      ]
     },
     "execution_count": 71,
     "metadata": {},
     "output_type": "execute_result"
    }
   ],
   "source": [
    "new_vocab_size = len(word_dict) + 2\n",
    "new_vocab_size"
   ]
  },
  {
   "cell_type": "code",
   "execution_count": 24,
   "metadata": {},
   "outputs": [
    {
     "data": {
      "text/html": [
       "<div>\n",
       "<style scoped>\n",
       "    .dataframe tbody tr th:only-of-type {\n",
       "        vertical-align: middle;\n",
       "    }\n",
       "\n",
       "    .dataframe tbody tr th {\n",
       "        vertical-align: top;\n",
       "    }\n",
       "\n",
       "    .dataframe thead th {\n",
       "        text-align: right;\n",
       "    }\n",
       "</style>\n",
       "<table border=\"1\" class=\"dataframe\">\n",
       "  <thead>\n",
       "    <tr style=\"text-align: right;\">\n",
       "      <th></th>\n",
       "      <th>word</th>\n",
       "      <th>count</th>\n",
       "    </tr>\n",
       "  </thead>\n",
       "  <tbody>\n",
       "    <tr>\n",
       "      <th>26442</th>\n",
       "      <td>movi</td>\n",
       "      <td>36082</td>\n",
       "    </tr>\n",
       "    <tr>\n",
       "      <th>14254</th>\n",
       "      <td>film</td>\n",
       "      <td>33623</td>\n",
       "    </tr>\n",
       "    <tr>\n",
       "      <th>28287</th>\n",
       "      <td>one</td>\n",
       "      <td>19462</td>\n",
       "    </tr>\n",
       "    <tr>\n",
       "      <th>22998</th>\n",
       "      <td>like</td>\n",
       "      <td>16040</td>\n",
       "    </tr>\n",
       "    <tr>\n",
       "      <th>39734</th>\n",
       "      <td>time</td>\n",
       "      <td>11449</td>\n",
       "    </tr>\n",
       "    <tr>\n",
       "      <th>16415</th>\n",
       "      <td>good</td>\n",
       "      <td>10747</td>\n",
       "    </tr>\n",
       "    <tr>\n",
       "      <th>24080</th>\n",
       "      <td>make</td>\n",
       "      <td>10660</td>\n",
       "    </tr>\n",
       "    <tr>\n",
       "      <th>7317</th>\n",
       "      <td>charact</td>\n",
       "      <td>9980</td>\n",
       "    </tr>\n",
       "    <tr>\n",
       "      <th>34796</th>\n",
       "      <td>see</td>\n",
       "      <td>9934</td>\n",
       "    </tr>\n",
       "    <tr>\n",
       "      <th>15905</th>\n",
       "      <td>get</td>\n",
       "      <td>9894</td>\n",
       "    </tr>\n",
       "    <tr>\n",
       "      <th>43052</th>\n",
       "      <td>watch</td>\n",
       "      <td>9789</td>\n",
       "    </tr>\n",
       "    <tr>\n",
       "      <th>37661</th>\n",
       "      <td>stori</td>\n",
       "      <td>9290</td>\n",
       "    </tr>\n",
       "    <tr>\n",
       "      <th>13294</th>\n",
       "      <td>even</td>\n",
       "      <td>9094</td>\n",
       "    </tr>\n",
       "    <tr>\n",
       "      <th>43965</th>\n",
       "      <td>would</td>\n",
       "      <td>8632</td>\n",
       "    </tr>\n",
       "    <tr>\n",
       "      <th>32166</th>\n",
       "      <td>realli</td>\n",
       "      <td>8295</td>\n",
       "    </tr>\n",
       "    <tr>\n",
       "      <th>43246</th>\n",
       "      <td>well</td>\n",
       "      <td>7780</td>\n",
       "    </tr>\n",
       "    <tr>\n",
       "      <th>34361</th>\n",
       "      <td>scene</td>\n",
       "      <td>7494</td>\n",
       "    </tr>\n",
       "    <tr>\n",
       "      <th>23386</th>\n",
       "      <td>look</td>\n",
       "      <td>6992</td>\n",
       "    </tr>\n",
       "    <tr>\n",
       "      <th>35590</th>\n",
       "      <td>show</td>\n",
       "      <td>6978</td>\n",
       "    </tr>\n",
       "    <tr>\n",
       "      <th>26521</th>\n",
       "      <td>much</td>\n",
       "      <td>6812</td>\n",
       "    </tr>\n",
       "  </tbody>\n",
       "</table>\n",
       "</div>"
      ],
      "text/plain": [
       "          word  count\n",
       "26442     movi  36082\n",
       "14254     film  33623\n",
       "28287      one  19462\n",
       "22998     like  16040\n",
       "39734     time  11449\n",
       "16415     good  10747\n",
       "24080     make  10660\n",
       "7317   charact   9980\n",
       "34796      see   9934\n",
       "15905      get   9894\n",
       "43052    watch   9789\n",
       "37661    stori   9290\n",
       "13294     even   9094\n",
       "43965    would   8632\n",
       "32166   realli   8295\n",
       "43246     well   7780\n",
       "34361    scene   7494\n",
       "23386     look   6992\n",
       "35590     show   6978\n",
       "26521     much   6812"
      ]
     },
     "execution_count": 24,
     "metadata": {},
     "output_type": "execute_result"
    }
   ],
   "source": [
    "pd.DataFrame(word_count.items(), columns = [\"word\", \"count\"]).sort_values(by=\"count\",ascending=False).head(20)"
   ]
  },
  {
   "cell_type": "code",
   "execution_count": 73,
   "metadata": {},
   "outputs": [],
   "source": [
    "if not os.path.exists(pytorch_dir): # Make sure that the folder exists\n",
    "    os.makedirs(pytorch_dir)"
   ]
  },
  {
   "cell_type": "code",
   "execution_count": 74,
   "metadata": {},
   "outputs": [],
   "source": [
    "with open(os.path.join(pytorch_dir, 'word_dict_enhanced.pkl'), \"wb\") as f:\n",
    "    pickle.dump(word_dict, f)"
   ]
  },
  {
   "cell_type": "code",
   "execution_count": 75,
   "metadata": {},
   "outputs": [],
   "source": [
    "import numpy as np\n",
    "\n",
    "def convert_and_pad(word_dict, sentence, pad=500):\n",
    "    NOWORD = 0 # We will use 0 to represent the 'no word' category\n",
    "    INFREQ = 1 # and we use 1 to represent the infrequent words, i.e., words not appearing in word_dict\n",
    "    \n",
    "    working_sentence = [NOWORD] * pad\n",
    "    \n",
    "    for word_index, word in enumerate(sentence[:pad]):\n",
    "        if word in word_dict:\n",
    "            working_sentence[word_index] = word_dict[word]\n",
    "        else:\n",
    "            working_sentence[word_index] = INFREQ\n",
    "            \n",
    "    return working_sentence, min(len(sentence), pad)\n",
    "\n",
    "def convert_and_pad_data(word_dict, data, pad=500):\n",
    "    result = []\n",
    "    lengths = []\n",
    "    \n",
    "    for sentence in tqdm(data,leave=True):\n",
    "        converted, leng = convert_and_pad(word_dict, sentence, pad)\n",
    "        result.append(converted)\n",
    "        lengths.append(leng)\n",
    "        \n",
    "    return np.array(result), np.array(lengths)"
   ]
  },
  {
   "cell_type": "code",
   "execution_count": 76,
   "metadata": {},
   "outputs": [
    {
     "name": "stderr",
     "output_type": "stream",
     "text": [
      "100%|██████████| 17500/17500 [00:00<00:00, 35586.84it/s]\n"
     ]
    }
   ],
   "source": [
    "train_tf_X, train_X_tf_len = convert_and_pad_data(word_dict, train_pp_X)"
   ]
  },
  {
   "cell_type": "code",
   "execution_count": 77,
   "metadata": {},
   "outputs": [
    {
     "name": "stderr",
     "output_type": "stream",
     "text": [
      "100%|██████████| 25000/25000 [00:01<00:00, 22099.16it/s]\n"
     ]
    }
   ],
   "source": [
    "test_tf_X, test_X_tf_len = convert_and_pad_data(word_dict, test_pp_X)"
   ]
  },
  {
   "cell_type": "code",
   "execution_count": 78,
   "metadata": {},
   "outputs": [
    {
     "name": "stderr",
     "output_type": "stream",
     "text": [
      "100%|██████████| 7500/7500 [00:00<00:00, 34512.61it/s]\n"
     ]
    }
   ],
   "source": [
    "valid_tf_X, valid_X_tf_len = convert_and_pad_data(word_dict, valid_pp_X)"
   ]
  },
  {
   "cell_type": "code",
   "execution_count": 79,
   "metadata": {},
   "outputs": [],
   "source": [
    "import pandas as pd\n",
    "    \n",
    "pd.concat([pd.DataFrame(train_y), pd.DataFrame(train_X_tf_len), pd.DataFrame(train_tf_X)], axis=1) \\\n",
    "        .to_csv(os.path.join(pytorch_dir, 'train.csv'), header=False, index=False)\n",
    "\n",
    "pd.concat([pd.DataFrame(valid_y), pd.DataFrame(valid_X_tf_len), pd.DataFrame(valid_tf_X)], axis=1) \\\n",
    "        .to_csv(os.path.join(pytorch_dir, 'valid.csv'), header=False, index=False)"
   ]
  },
  {
   "cell_type": "code",
   "execution_count": 80,
   "metadata": {},
   "outputs": [
    {
     "name": "stderr",
     "output_type": "stream",
     "text": [
      "Couldn't call 'get_role' to get Role ARN from role name aadelmo to get Role path.\n"
     ]
    }
   ],
   "source": [
    "import boto3\n",
    "import sagemaker\n",
    "\n",
    "sagemaker_session = sagemaker.Session(boto_session=boto3.session.Session(region_name=\"us-east-1\"))\n",
    "\n",
    "bucket = sagemaker_session.default_bucket()\n",
    "prefix = 'sagemaker/sentiment_rnn'\n",
    "\n",
    "try:\n",
    "    role = sagemaker.get_execution_role()\n",
    "except Exception as err:\n",
    "    role = \"arn:aws:iam::977053370764:role/service-role/AmazonSageMaker-ExecutionRole-20201202T141643\""
   ]
  },
  {
   "cell_type": "code",
   "execution_count": 81,
   "metadata": {},
   "outputs": [
    {
     "data": {
      "text/plain": [
       "'s3://sagemaker-us-east-1-977053370764/sagemaker/sentiment_rnn'"
      ]
     },
     "execution_count": 81,
     "metadata": {},
     "output_type": "execute_result"
    }
   ],
   "source": [
    "input_data = sagemaker_session.upload_data(path=pytorch_dir, bucket=bucket, key_prefix=prefix)\n",
    "input_data"
   ]
  },
  {
   "cell_type": "code",
   "execution_count": 82,
   "metadata": {},
   "outputs": [],
   "source": [
    "import torch\n",
    "import torch.utils.data\n",
    "\n",
    "# Read in only the first 250 rows\n",
    "train_sample = pd.read_csv(os.path.join(pytorch_dir, 'train.csv'), header=None, names=None, nrows=250)\n",
    "valid_sample = pd.read_csv(os.path.join(pytorch_dir, 'valid.csv'), header=None, names=None, nrows=250)\n",
    "\n",
    "# Turn the input pandas dataframe into tensors\n",
    "train_sample_y = torch.from_numpy(train_sample[[0]].values).float().squeeze()\n",
    "train_sample_X = torch.from_numpy(train_sample.drop([0], axis=1).values).long()\n",
    "\n",
    "valid_sample_y = torch.from_numpy(valid_sample[[0]].values).float().squeeze()\n",
    "valid_sample_X = torch.from_numpy(valid_sample.drop([0], axis=1).values).long()\n",
    "\n",
    "# Build the dataset\n",
    "train_sample_ds = torch.utils.data.TensorDataset(train_sample_X, train_sample_y)\n",
    "valid_sample_ds = torch.utils.data.TensorDataset(valid_sample_X, valid_sample_y)\n",
    "\n",
    "# Build the dataloader\n",
    "train_sample_dl = torch.utils.data.DataLoader(train_sample_ds, batch_size=50)\n",
    "valid_sample_dl = torch.utils.data.DataLoader(valid_sample_ds, batch_size=50)"
   ]
  },
  {
   "cell_type": "code",
   "execution_count": 83,
   "metadata": {},
   "outputs": [],
   "source": [
    "%matplotlib inline\n",
    "import time\n",
    "import pylab as pl\n",
    "from IPython import display\n",
    "\n",
    "def train(model, train_loader, valid_loader, epochs, optimizer, loss_fn, device):\n",
    "    report_train = pd.DataFrame(columns=[\"epoch\", \"trainError\", \"validError\"])\n",
    "    best_valid_BCELoss = 9999999999\n",
    "    BCELoss_list = []\n",
    "    valid_BCELoss_list = []\n",
    "    for epoch in tqdm(range(1, epochs + 1)):\n",
    "        model.train()\n",
    "        total_loss = 0\n",
    "        total_valid_loss = 0        \n",
    "        for batch in train_loader:         \n",
    "            batch_X, batch_y = batch\n",
    "            \n",
    "            batch_X = batch_X.to(device)\n",
    "            batch_y = batch_y.to(device)\n",
    "            \n",
    "            # TODO: Complete this train method to train the model provided.\n",
    "            optimizer.zero_grad()\n",
    "            output = model(batch_X)\n",
    "            loss = loss_fn(output, batch_y)\n",
    "            loss.backward()\n",
    "            optimizer.step()            \n",
    "            total_loss += loss.data.item()\n",
    "        for block in valid_loader:     \n",
    "            block_X, block_y = block\n",
    "            \n",
    "            block_X = block_X.to(device)\n",
    "            block_y = block_y.to(device)\n",
    "            output_valid = model(block_X)\n",
    "            valid_loss = loss_fn(output_valid, block_y)\n",
    "            total_valid_loss += valid_loss.data.item()\n",
    "        BCELoss = total_loss/len(train_loader)\n",
    "        BCELoss_list.append(BCELoss)\n",
    "        valid_BCELoss = total_valid_loss/len(valid_loader)\n",
    "        valid_BCELoss_list.append(valid_BCELoss)\n",
    "        if valid_BCELoss < best_valid_BCELoss: \n",
    "            #dummy_input = torch.tensor(block_X).to(device).long()\n",
    "            #torch.onnx.export(model, dummy_input, f\"models/best_model.onnx\")\n",
    "            best_valid_BCELoss = BCELoss\n",
    "        \n",
    "        desc = (f'Epoch: {epoch}, train_loss: {BCELoss}, valid_loss: {valid_BCELoss}')\n",
    "        print(desc)\n",
    "        to_append = [epoch, BCELoss, valid_BCELoss]\n",
    "        report_train_length = len(report_train)\n",
    "        report_train.loc[report_train_length] = to_append\n",
    "        #print(\"Epoch: {}, BCELoss: {}\".format(epoch, total_loss / len(train_loader)))\n",
    "        display.clear_output(wait=True)\n",
    "        if epoch == 1:\n",
    "            pl.plot(BCELoss_list, '-b', label=\"TrainError\")\n",
    "            pl.plot(valid_BCELoss_list, '-r', label=\"ValidationError\")\n",
    "            pl.legend(loc='upper right')\n",
    "        else:\n",
    "            pl.plot(BCELoss_list, '-b')\n",
    "            pl.plot(valid_BCELoss_list, '-r')\n",
    "        pl.xlim(1, epochs)\n",
    "        pl.ylim(0, 2)\n",
    "        display.display(pl.gcf())\n",
    "        time.sleep(1.0)\n",
    "    return report_train, model"
   ]
  },
  {
   "cell_type": "code",
   "execution_count": 84,
   "metadata": {},
   "outputs": [
    {
     "data": {
      "image/png": "[encoded data removed]",
      "text/plain": [
       "<Figure size 432x288 with 1 Axes>"
      ]
     },
     "metadata": {},
     "output_type": "display_data"
    },
    {
     "name": "stderr",
     "output_type": "stream",
     "text": [
      "100%|██████████| 5/5 [00:18<00:00,  3.60s/it]\n"
     ]
    },
    {
     "data": {
      "image/png": "[encoded data removed]",
      "text/plain": [
       "<Figure size 432x288 with 1 Axes>"
      ]
     },
     "metadata": {
      "needs_background": "light"
     },
     "output_type": "display_data"
    }
   ],
   "source": [
    "import torch.optim as optim\n",
    "from train.model import LSTMClassifier\n",
    "\n",
    "device = torch.device(\"cuda\" if torch.cuda.is_available() else \"cpu\")\n",
    "model = LSTMClassifier(32, 100, 5000).to(device)\n",
    "optimizer = optim.Adam(model.parameters())\n",
    "loss_fn = torch.nn.BCELoss()\n",
    "\n",
    "report_train, trained_model = train(model, train_sample_dl, valid_sample_dl, 5, optimizer, loss_fn, device)"
   ]
  },
  {
   "cell_type": "code",
   "execution_count": 60,
   "metadata": {},
   "outputs": [],
   "source": [
    "from sagemaker.pytorch import PyTorch\n",
    "\n",
    "estimator = PyTorch(entry_point=\"train.py\",\n",
    "                    source_dir=\"enhanced\",\n",
    "                    py_version=\"py3\",\n",
    "                    role=role,\n",
    "                    framework_version='0.4.0',\n",
    "                    train_instance_count=1,\n",
    "                    train_instance_type='ml.p2.xlarge',\n",
    " hyperparameters={\n",
    "                        'epochs': 20,\n",
    "                        'hidden_dim': 200,\n",
    "                    })"
   ]
  },
  {
   "cell_type": "code",
   "execution_count": 61,
   "metadata": {},
   "outputs": [
    {
     "name": "stderr",
     "output_type": "stream",
     "text": [
      "'create_image_uri' will be deprecated in favor of 'ImageURIProvider' class in SageMaker Python SDK v2.\n",
      "'s3_input' class will be renamed to 'TrainingInput' in SageMaker Python SDK v2.\n",
      "'create_image_uri' will be deprecated in favor of 'ImageURIProvider' class in SageMaker Python SDK v2.\n"
     ]
    },
    {
     "name": "stdout",
     "output_type": "stream",
     "text": [
      "2020-12-08 00:20:32 Starting - Starting the training job...\n",
      "2020-12-08 00:20:35 Starting - Launching requested ML instances......\n",
      "2020-12-08 00:21:51 Starting - Preparing the instances for training......\n",
      "2020-12-08 00:23:15 Downloading - Downloading input data......\n",
      "2020-12-08 00:24:17 Training - Downloading the training image..\u001b[34mbash: cannot set terminal process group (-1): Inappropriate ioctl for device\u001b[0m\n",
      "\u001b[34mbash: no job control in this shell\u001b[0m\n",
      "\u001b[34m2020-12-08 00:24:39,636 sagemaker-containers INFO     Imported framework sagemaker_pytorch_container.training\u001b[0m\n",
      "\u001b[34m2020-12-08 00:24:39,661 sagemaker_pytorch_container.training INFO     Block until all host DNS lookups succeed.\u001b[0m\n",
      "\u001b[34m2020-12-08 00:24:39,665 sagemaker_pytorch_container.training INFO     Invoking user training script.\u001b[0m\n",
      "\u001b[34m2020-12-08 00:24:40,245 sagemaker-containers INFO     Module train does not provide a setup.py. \u001b[0m\n",
      "\u001b[34mGenerating setup.py\u001b[0m\n",
      "\u001b[34m2020-12-08 00:24:40,245 sagemaker-containers INFO     Generating setup.cfg\u001b[0m\n",
      "\u001b[34m2020-12-08 00:24:40,245 sagemaker-containers INFO     Generating MANIFEST.in\u001b[0m\n",
      "\u001b[34m2020-12-08 00:24:40,246 sagemaker-containers INFO     Installing module with the following command:\u001b[0m\n",
      "\u001b[34m/usr/bin/python -m pip install -U . -r requirements.txt\u001b[0m\n",
      "\u001b[34mProcessing /opt/ml/code\u001b[0m\n",
      "\u001b[34mCollecting pandas (from -r requirements.txt (line 1))\u001b[0m\n",
      "\u001b[34m  Downloading https://files.pythonhosted.org/packages/74/24/0cdbf8907e1e3bc5a8da03345c23cbed7044330bb8f73bb12e711a640a00/pandas-0.24.2-cp35-cp35m-manylinux1_x86_64.whl (10.0MB)\u001b[0m\n",
      "\u001b[34mCollecting numpy (from -r requirements.txt (line 2))\n",
      "  Downloading https://files.pythonhosted.org/packages/b5/36/88723426b4ff576809fec7d73594fe17a35c27f8d01f93637637a29ae25b/numpy-1.18.5-cp35-cp35m-manylinux1_x86_64.whl (19.9MB)\u001b[0m\n",
      "\u001b[34mCollecting nltk (from -r requirements.txt (line 3))\n",
      "  Downloading https://files.pythonhosted.org/packages/92/75/ce35194d8e3022203cca0d2f896dbb88689f9b3fce8e9f9cff942913519d/nltk-3.5.zip (1.4MB)\u001b[0m\n",
      "\u001b[34mCollecting beautifulsoup4 (from -r requirements.txt (line 4))\n",
      "  Downloading https://files.pythonhosted.org/packages/d1/41/e6495bd7d3781cee623ce23ea6ac73282a373088fcd0ddc809a047b18eae/beautifulsoup4-4.9.3-py3-none-any.whl (115kB)\u001b[0m\n",
      "\u001b[34mCollecting html5lib (from -r requirements.txt (line 5))\n",
      "  Downloading https://files.pythonhosted.org/packages/6c/dd/a834df6482147d48e225a49515aabc28974ad5a4ca3215c18a882565b028/html5lib-1.1-py2.py3-none-any.whl (112kB)\u001b[0m\n",
      "\u001b[34mCollecting pytz>=2011k (from pandas->-r requirements.txt (line 1))\n",
      "  Downloading https://files.pythonhosted.org/packages/12/f8/ff09af6ff61a3efaad5f61ba5facdf17e7722c4393f7d8a66674d2dbd29f/pytz-2020.4-py2.py3-none-any.whl (509kB)\u001b[0m\n",
      "\u001b[34mRequirement already satisfied, skipping upgrade: python-dateutil>=2.5.0 in /usr/local/lib/python3.5/dist-packages (from pandas->-r requirements.txt (line 1)) (2.7.5)\u001b[0m\n",
      "\u001b[34mRequirement already satisfied, skipping upgrade: click in /usr/local/lib/python3.5/dist-packages (from nltk->-r requirements.txt (line 3)) (7.0)\u001b[0m\n",
      "\u001b[34mCollecting joblib (from nltk->-r requirements.txt (line 3))\n",
      "  Downloading https://files.pythonhosted.org/packages/28/5c/cf6a2b65a321c4a209efcdf64c2689efae2cb62661f8f6f4bb28547cf1bf/joblib-0.14.1-py2.py3-none-any.whl (294kB)\u001b[0m\n",
      "\u001b[34mCollecting regex (from nltk->-r requirements.txt (line 3))\u001b[0m\n",
      "\u001b[34m  Downloading https://files.pythonhosted.org/packages/2e/e4/3447fed9ab29944333f48730ecff4dca92f0868c5b188d6ab2b2078e32c2/regex-2020.11.13.tar.gz (694kB)\u001b[0m\n",
      "\u001b[34mCollecting tqdm (from nltk->-r requirements.txt (line 3))\n",
      "  Downloading https://files.pythonhosted.org/packages/8a/54/115f0c28a61d56674c3a5e05c46d6c3523ad196e1dcd3e2d8b119026df36/tqdm-4.54.1-py2.py3-none-any.whl (69kB)\u001b[0m\n",
      "\u001b[34mCollecting soupsieve>1.2; python_version >= \"3.0\" (from beautifulsoup4->-r requirements.txt (line 4))\n",
      "  Downloading https://files.pythonhosted.org/packages/6f/8f/457f4a5390eeae1cc3aeab89deb7724c965be841ffca6cfca9197482e470/soupsieve-2.0.1-py3-none-any.whl\u001b[0m\n",
      "\u001b[34mRequirement already satisfied, skipping upgrade: six>=1.9 in /usr/local/lib/python3.5/dist-packages (from html5lib->-r requirements.txt (line 5)) (1.11.0)\u001b[0m\n",
      "\u001b[34mCollecting webencodings (from html5lib->-r requirements.txt (line 5))\n",
      "  Downloading https://files.pythonhosted.org/packages/f4/24/2a3e3df732393fed8b3ebf2ec078f05546de641fe1b667ee316ec1dcf3b7/webencodings-0.5.1-py2.py3-none-any.whl\u001b[0m\n",
      "\u001b[34mBuilding wheels for collected packages: nltk, train, regex\n",
      "  Running setup.py bdist_wheel for nltk: started\u001b[0m\n",
      "\u001b[34m  Running setup.py bdist_wheel for nltk: finished with status 'done'\n",
      "  Stored in directory: /root/.cache/pip/wheels/ae/8c/3f/b1fe0ba04555b08b57ab52ab7f86023639a526d8bc8d384306\n",
      "  Running setup.py bdist_wheel for train: started\u001b[0m\n",
      "\u001b[34m  Running setup.py bdist_wheel for train: finished with status 'done'\n",
      "  Stored in directory: /tmp/pip-ephem-wheel-cache-bt96if5_/wheels/35/24/16/37574d11bf9bde50616c67372a334f94fa8356bc7164af8ca3\n",
      "  Running setup.py bdist_wheel for regex: started\u001b[0m\n",
      "\n",
      "2020-12-08 00:24:39 Training - Training image download completed. Training in progress.\u001b[34m  Running setup.py bdist_wheel for regex: finished with status 'done'\n",
      "  Stored in directory: /root/.cache/pip/wheels/27/f6/66/a4243e485a0ebc73dc59033ae26c48e82526f77dbfe158ac59\u001b[0m\n",
      "\u001b[34mSuccessfully built nltk train regex\u001b[0m\n",
      "\u001b[34mInstalling collected packages: pytz, numpy, pandas, joblib, regex, tqdm, nltk, soupsieve, beautifulsoup4, webencodings, html5lib, train\n",
      "  Found existing installation: numpy 1.15.4\n",
      "    Uninstalling numpy-1.15.4:\u001b[0m\n",
      "\u001b[34m      Successfully uninstalled numpy-1.15.4\u001b[0m\n",
      "\u001b[34mSuccessfully installed beautifulsoup4-4.9.3 html5lib-1.1 joblib-0.14.1 nltk-3.5 numpy-1.18.5 pandas-0.24.2 pytz-2020.4 regex-2020.11.13 soupsieve-2.0.1 tqdm-4.54.1 train-1.0.0 webencodings-0.5.1\u001b[0m\n",
      "\u001b[34mYou are using pip version 18.1, however version 20.3.1 is available.\u001b[0m\n",
      "\u001b[34mYou should consider upgrading via the 'pip install --upgrade pip' command.\u001b[0m\n",
      "\u001b[34m2020-12-08 00:25:03,424 sagemaker-containers INFO     Invoking user script\n",
      "\u001b[0m\n",
      "\u001b[34mTraining Env:\n",
      "\u001b[0m\n",
      "\u001b[34m{\n",
      "    \"hyperparameters\": {\n",
      "        \"hidden_dim\": 200,\n",
      "        \"epochs\": 20\n",
      "    },\n",
      "    \"hosts\": [\n",
      "        \"algo-1\"\n",
      "    ],\n",
      "    \"additional_framework_parameters\": {},\n",
      "    \"output_data_dir\": \"/opt/ml/output/data\",\n",
      "    \"model_dir\": \"/opt/ml/model\",\n",
      "    \"module_dir\": \"s3://sagemaker-us-east-1-977053370764/sagemaker-pytorch-2020-12-08-00-20-28-997/source/sourcedir.tar.gz\",\n",
      "    \"num_cpus\": 4,\n",
      "    \"channel_input_dirs\": {\n",
      "        \"training\": \"/opt/ml/input/data/training\"\n",
      "    },\n",
      "    \"input_data_config\": {\n",
      "        \"training\": {\n",
      "            \"TrainingInputMode\": \"File\",\n",
      "            \"S3DistributionType\": \"FullyReplicated\",\n",
      "            \"RecordWrapperType\": \"None\"\n",
      "        }\n",
      "    },\n",
      "    \"current_host\": \"algo-1\",\n",
      "    \"output_intermediate_dir\": \"/opt/ml/output/intermediate\",\n",
      "    \"input_dir\": \"/opt/ml/input\",\n",
      "    \"module_name\": \"train\",\n",
      "    \"output_dir\": \"/opt/ml/output\",\n",
      "    \"network_interface_name\": \"eth0\",\n",
      "    \"num_gpus\": 1,\n",
      "    \"framework_module\": \"sagemaker_pytorch_container.training:main\",\n",
      "    \"job_name\": \"sagemaker-pytorch-2020-12-08-00-20-28-997\",\n",
      "    \"user_entry_point\": \"train.py\",\n",
      "    \"input_config_dir\": \"/opt/ml/input/config\",\n",
      "    \"resource_config\": {\n",
      "        \"network_interface_name\": \"eth0\",\n",
      "        \"hosts\": [\n",
      "            \"algo-1\"\n",
      "        ],\n",
      "        \"current_host\": \"algo-1\"\n",
      "    },\n",
      "    \"log_level\": 20\u001b[0m\n",
      "\u001b[34m}\n",
      "\u001b[0m\n",
      "\u001b[34mEnvironment variables:\n",
      "\u001b[0m\n",
      "\u001b[34mSM_INPUT_CONFIG_DIR=/opt/ml/input/config\u001b[0m\n",
      "\u001b[34mSM_CHANNELS=[\"training\"]\u001b[0m\n",
      "\u001b[34mSM_RESOURCE_CONFIG={\"current_host\":\"algo-1\",\"hosts\":[\"algo-1\"],\"network_interface_name\":\"eth0\"}\u001b[0m\n",
      "\u001b[34mSM_NUM_CPUS=4\u001b[0m\n",
      "\u001b[34mSM_NETWORK_INTERFACE_NAME=eth0\u001b[0m\n",
      "\u001b[34mPYTHONPATH=/usr/local/bin:/usr/lib/python35.zip:/usr/lib/python3.5:/usr/lib/python3.5/plat-x86_64-linux-gnu:/usr/lib/python3.5/lib-dynload:/usr/local/lib/python3.5/dist-packages:/usr/lib/python3/dist-packages\u001b[0m\n",
      "\u001b[34mSM_NUM_GPUS=1\u001b[0m\n",
      "\u001b[34mSM_USER_ARGS=[\"--epochs\",\"20\",\"--hidden_dim\",\"200\"]\u001b[0m\n",
      "\u001b[34mSM_HP_HIDDEN_DIM=200\u001b[0m\n",
      "\u001b[34mSM_CHANNEL_TRAINING=/opt/ml/input/data/training\u001b[0m\n",
      "\u001b[34mSM_MODEL_DIR=/opt/ml/model\u001b[0m\n",
      "\u001b[34mSM_HP_EPOCHS=20\u001b[0m\n",
      "\u001b[34mSM_HOSTS=[\"algo-1\"]\u001b[0m\n",
      "\u001b[34mSM_HPS={\"epochs\":20,\"hidden_dim\":200}\u001b[0m\n",
      "\u001b[34mSM_CURRENT_HOST=algo-1\u001b[0m\n",
      "\u001b[34mSM_OUTPUT_DIR=/opt/ml/output\u001b[0m\n",
      "\u001b[34mSM_FRAMEWORK_MODULE=sagemaker_pytorch_container.training:main\u001b[0m\n",
      "\u001b[34mSM_MODULE_NAME=train\u001b[0m\n",
      "\u001b[34mSM_INPUT_DIR=/opt/ml/input\u001b[0m\n",
      "\u001b[34mSM_OUTPUT_INTERMEDIATE_DIR=/opt/ml/output/intermediate\u001b[0m\n",
      "\u001b[34mSM_OUTPUT_DATA_DIR=/opt/ml/output/data\u001b[0m\n",
      "\u001b[34mSM_INPUT_DATA_CONFIG={\"training\":{\"RecordWrapperType\":\"None\",\"S3DistributionType\":\"FullyReplicated\",\"TrainingInputMode\":\"File\"}}\u001b[0m\n",
      "\u001b[34mSM_USER_ENTRY_POINT=train.py\u001b[0m\n",
      "\u001b[34mSM_TRAINING_ENV={\"additional_framework_parameters\":{},\"channel_input_dirs\":{\"training\":\"/opt/ml/input/data/training\"},\"current_host\":\"algo-1\",\"framework_module\":\"sagemaker_pytorch_container.training:main\",\"hosts\":[\"algo-1\"],\"hyperparameters\":{\"epochs\":20,\"hidden_dim\":200},\"input_config_dir\":\"/opt/ml/input/config\",\"input_data_config\":{\"training\":{\"RecordWrapperType\":\"None\",\"S3DistributionType\":\"FullyReplicated\",\"TrainingInputMode\":\"File\"}},\"input_dir\":\"/opt/ml/input\",\"job_name\":\"sagemaker-pytorch-2020-12-08-00-20-28-997\",\"log_level\":20,\"model_dir\":\"/opt/ml/model\",\"module_dir\":\"s3://sagemaker-us-east-1-977053370764/sagemaker-pytorch-2020-12-08-00-20-28-997/source/sourcedir.tar.gz\",\"module_name\":\"train\",\"network_interface_name\":\"eth0\",\"num_cpus\":4,\"num_gpus\":1,\"output_data_dir\":\"/opt/ml/output/data\",\"output_dir\":\"/opt/ml/output\",\"output_intermediate_dir\":\"/opt/ml/output/intermediate\",\"resource_config\":{\"current_host\":\"algo-1\",\"hosts\":[\"algo-1\"],\"network_interface_name\":\"eth0\"},\"user_entry_point\":\"train.py\"}\u001b[0m\n",
      "\u001b[34mSM_FRAMEWORK_PARAMS={}\u001b[0m\n",
      "\u001b[34mSM_MODULE_DIR=s3://sagemaker-us-east-1-977053370764/sagemaker-pytorch-2020-12-08-00-20-28-997/source/sourcedir.tar.gz\u001b[0m\n",
      "\u001b[34mSM_LOG_LEVEL=20\n",
      "\u001b[0m\n",
      "\u001b[34mInvoking script with the following command:\n",
      "\u001b[0m\n",
      "\u001b[34m/usr/bin/python -m train --epochs 20 --hidden_dim 200\n",
      "\n",
      "\u001b[0m\n",
      "\u001b[34mUsing device cuda.\u001b[0m\n",
      "\u001b[34mGet train data loader.\u001b[0m\n",
      "\u001b[34mGet train data loader.\u001b[0m\n"
     ]
    },
    {
     "name": "stdout",
     "output_type": "stream",
     "text": [
      "\u001b[34mModel loaded with embedding_dim 32, hidden_dim 200, vocab_size 5000.\u001b[0m\n",
      "\u001b[34mEpoch: 1; BCELoss: 0.6603559573491414;\u001b[0m\n",
      "\u001b[34mEpoch: 2; BCELoss: 0.6422168850898743;\u001b[0m\n",
      "\u001b[34mEpoch: 3; BCELoss: 0.5759447495142619;\u001b[0m\n",
      "\u001b[34mEpoch: 4; BCELoss: 0.5119834641615549;\u001b[0m\n",
      "\u001b[34mEpoch: 5; BCELoss: 0.4626801828543345;\u001b[0m\n",
      "\u001b[34mEpoch: 6; BCELoss: 0.474393089612325;\u001b[0m\n",
      "\u001b[34mEpoch: 7; BCELoss: 0.4257695198059082;\u001b[0m\n",
      "\u001b[34mEpoch: 8; BCELoss: 0.4043800512949626;\u001b[0m\n",
      "\u001b[34mEpoch: 9; BCELoss: 0.38306878209114076;\u001b[0m\n",
      "\u001b[34mEpoch: 10; BCELoss: 0.3897063712279002;\u001b[0m\n",
      "\u001b[34mEpoch: 11; BCELoss: 0.395327756802241;\u001b[0m\n",
      "\u001b[34mEpoch: 12; BCELoss: 0.3943827946980794;\u001b[0m\n",
      "\u001b[34mEpoch: 13; BCELoss: 0.41667189399401344;\u001b[0m\n",
      "\u001b[34mEpoch: 14; BCELoss: 0.3871035218238831;\u001b[0m\n",
      "\u001b[34mEpoch: 15; BCELoss: 0.4310874938964844;\u001b[0m\n",
      "\u001b[34mEpoch: 16; BCELoss: 0.3864066441853841;\u001b[0m\n",
      "\u001b[34mEpoch: 17; BCELoss: 0.4187188347180684;\u001b[0m\n",
      "\u001b[34mEpoch: 18; BCELoss: 0.3760673801104228;\u001b[0m\n",
      "\u001b[34mEpoch: 19; BCELoss: 0.3632106343905131;\u001b[0m\n",
      "\u001b[34mEpoch: 20; BCELoss: 0.37536983291308085;\u001b[0m\n",
      "\u001b[34m2020-12-08 00:29:48,513 sagemaker-containers INFO     Reporting training SUCCESS\u001b[0m\n",
      "\n",
      "2020-12-08 00:29:56 Uploading - Uploading generated training model\n",
      "2020-12-08 00:29:56 Completed - Training job completed\n",
      "Training seconds: 401\n",
      "Billable seconds: 401\n"
     ]
    }
   ],
   "source": [
    "estimator.fit({'training': input_data})"
   ]
  },
  {
   "cell_type": "code",
   "execution_count": 62,
   "metadata": {},
   "outputs": [
    {
     "name": "stderr",
     "output_type": "stream",
     "text": [
      "Parameter image will be renamed to image_uri in SageMaker Python SDK v2.\n",
      "'create_image_uri' will be deprecated in favor of 'ImageURIProvider' class in SageMaker Python SDK v2.\n"
     ]
    },
    {
     "name": "stdout",
     "output_type": "stream",
     "text": [
      "-------------------!"
     ]
    }
   ],
   "source": [
    "predictor = estimator.deploy(initial_instance_count=1,instance_type=\"ml.m4.xlarge\")"
   ]
  },
  {
   "cell_type": "code",
   "execution_count": 63,
   "metadata": {},
   "outputs": [],
   "source": [
    "test_X_pred = pd.concat([pd.DataFrame(test_X_tf_len), pd.DataFrame(test_tf_X)], axis=1)"
   ]
  },
  {
   "cell_type": "code",
   "execution_count": 64,
   "metadata": {},
   "outputs": [],
   "source": [
    "# We split the data into chunks and send each chunk seperately, accumulating the results.\n",
    "\n",
    "def predict(data, rows=512):\n",
    "    split_array = np.array_split(data, int(data.shape[0] / float(rows) + 1))\n",
    "    predictions = np.array([])\n",
    "    for array in tqdm(split_array):\n",
    "        predictions = np.append(predictions, predictor.predict(array))\n",
    "    \n",
    "    return predictions"
   ]
  },
  {
   "cell_type": "code",
   "execution_count": 65,
   "metadata": {},
   "outputs": [
    {
     "name": "stderr",
     "output_type": "stream",
     "text": [
      "100%|██████████| 49/49 [05:12<00:00,  6.38s/it]\n"
     ]
    }
   ],
   "source": [
    "predictions = predict(test_X_pred.values)\n",
    "predictions = [round(num) for num in predictions]"
   ]
  },
  {
   "cell_type": "code",
   "execution_count": 66,
   "metadata": {},
   "outputs": [
    {
     "data": {
      "text/plain": [
       "0.8546"
      ]
     },
     "execution_count": 66,
     "metadata": {},
     "output_type": "execute_result"
    }
   ],
   "source": [
    "from sklearn.metrics import accuracy_score, confusion_matrix\n",
    "accuracy_score(test_y, predictions)"
   ]
  },
  {
   "cell_type": "code",
   "execution_count": 67,
   "metadata": {},
   "outputs": [
    {
     "data": {
      "text/plain": [
       "array([[10314,  2186],\n",
       "       [ 1449, 11051]])"
      ]
     },
     "execution_count": 67,
     "metadata": {},
     "output_type": "execute_result"
    }
   ],
   "source": [
    "confusion_matrix(test_y, predictions)"
   ]
  },
  {
   "cell_type": "code",
   "execution_count": null,
   "metadata": {},
   "outputs": [],
   "source": []
  },
  {
   "cell_type": "code",
   "execution_count": 40,
   "metadata": {},
   "outputs": [],
   "source": [
    "from sagemaker.tuner import IntegerParameter, ContinuousParameter, HyperparameterTuner"
   ]
  },
  {
   "cell_type": "code",
   "execution_count": 44,
   "metadata": {},
   "outputs": [],
   "source": [
    "xgb_hyperparameter_tuner = HyperparameterTuner(estimator = estimator, # The estimator object to use as the basis for the training jobs.\n",
    "                                               objective_metric_name = 'validation:loss',\n",
    "                                               metric_definitions = [{\"Name\": \"validation:loss\",\"Regex\": \"BCELoss: (.*?);\"}],# The metric used to compare trained models.\n",
    "                                               objective_type = 'Minimize', # Whether we wish to minimize or maximize the metric.\n",
    "                                               max_jobs = 4, # The total number of models to train\n",
    "                                               max_parallel_jobs = 1, # The number of models to train in parallel\n",
    "                                               hyperparameter_ranges = {\n",
    "                                                    'epochs': IntegerParameter(10,11),\n",
    "                                                    'hidden_dim': IntegerParameter(200,201),\n",
    "                                                    #'embedding_dim': IntegerParameter(32,40)\n",
    "                                               })"
   ]
  },
  {
   "cell_type": "code",
   "execution_count": 45,
   "metadata": {},
   "outputs": [
    {
     "name": "stderr",
     "output_type": "stream",
     "text": [
      "'create_image_uri' will be deprecated in favor of 'ImageURIProvider' class in SageMaker Python SDK v2.\n",
      "'create_image_uri' will be deprecated in favor of 'ImageURIProvider' class in SageMaker Python SDK v2.\n",
      "'s3_input' class will be renamed to 'TrainingInput' in SageMaker Python SDK v2.\n",
      "'create_image_uri' will be deprecated in favor of 'ImageURIProvider' class in SageMaker Python SDK v2.\n"
     ]
    }
   ],
   "source": [
    "xgb_hyperparameter_tuner.fit({'training': input_data})"
   ]
  },
  {
   "cell_type": "code",
   "execution_count": 52,
   "metadata": {},
   "outputs": [
    {
     "name": "stdout",
     "output_type": "stream",
     "text": [
      "s\n"
     ]
    }
   ],
   "source": [
    "xgb_hyperparameter_tuner.wait()"
   ]
  },
  {
   "cell_type": "code",
   "execution_count": null,
   "metadata": {},
   "outputs": [],
   "source": [
    "best_model = xgb_hyperparameter_tuner.best_training_job()"
   ]
  },
  {
   "cell_type": "code",
   "execution_count": null,
   "metadata": {},
   "outputs": [],
   "source": [
    "best_estimator = sagemaker.estimator.Estimator.attach(best_model)"
   ]
  },
  {
   "cell_type": "code",
   "execution_count": null,
   "metadata": {},
   "outputs": [],
   "source": [
    "predictor = best_estimator.deploy(initial_instance_count=1, instance_type='ml.m4.xlarge')"
   ]
  },
  {
   "cell_type": "code",
   "execution_count": null,
   "metadata": {},
   "outputs": [],
   "source": []
  },
  {
   "cell_type": "code",
   "execution_count": null,
   "metadata": {},
   "outputs": [],
   "source": []
  },
  {
   "cell_type": "code",
   "execution_count": null,
   "metadata": {},
   "outputs": [],
   "source": []
  },
  {
   "cell_type": "code",
   "execution_count": null,
   "metadata": {},
   "outputs": [],
   "source": []
  },
  {
   "cell_type": "code",
   "execution_count": null,
   "metadata": {},
   "outputs": [],
   "source": []
  },
  {
   "cell_type": "code",
   "execution_count": null,
   "metadata": {},
   "outputs": [],
   "source": []
  },
  {
   "cell_type": "code",
   "execution_count": null,
   "metadata": {
    "scrolled": true
   },
   "outputs": [],
   "source": [
    "from sagemaker.predictor import RealTimePredictor\n",
    "from sagemaker.pytorch import PyTorchModel\n",
    "\n",
    "class StringPredictor(RealTimePredictor):\n",
    "    def __init__(self, endpoint_name, sagemaker_session):\n",
    "        super(StringPredictor, self).__init__(endpoint_name, sagemaker_session, content_type='text/plain')\n",
    "\n",
    "model = PyTorchModel(model_data=best_estimator.model_data,\n",
    "                     role = role,\n",
    "                     framework_version='0.4.0',\n",
    "                     entry_point='predict.py',\n",
    "                     py_version=\"py3\",\n",
    "                     source_dir='serve',\n",
    "                     predictor_cls=StringPredictor)"
   ]
  },
  {
   "cell_type": "code",
   "execution_count": null,
   "metadata": {
    "scrolled": true
   },
   "outputs": [],
   "source": [
    "predictor = model.deploy(initial_instance_count=1, instance_type='ml.m4.xlarge')"
   ]
  },
  {
   "cell_type": "code",
   "execution_count": null,
   "metadata": {},
   "outputs": [],
   "source": [
    "test_X = pd.concat([pd.DataFrame(test_X_len), pd.DataFrame(test_X)], axis=1)"
   ]
  },
  {
   "cell_type": "code",
   "execution_count": null,
   "metadata": {},
   "outputs": [],
   "source": [
    "# We split the data into chunks and send each chunk seperately, accumulating the results.\n",
    "\n",
    "def predict(data, rows=512):\n",
    "    split_array = np.array_split(data, int(data.shape[0] / float(rows) + 1))\n",
    "    predictions = np.array([])\n",
    "    for array in tqdm(split_array):\n",
    "        predictions = np.append(predictions, predictor.predict(array))\n",
    "    \n",
    "    return predictions"
   ]
  },
  {
   "cell_type": "code",
   "execution_count": null,
   "metadata": {},
   "outputs": [],
   "source": []
  },
  {
   "cell_type": "code",
   "execution_count": null,
   "metadata": {},
   "outputs": [],
   "source": []
  },
  {
   "cell_type": "code",
   "execution_count": null,
   "metadata": {},
   "outputs": [],
   "source": []
  },
  {
   "cell_type": "code",
   "execution_count": null,
   "metadata": {},
   "outputs": [],
   "source": [
    "import glob\n",
    "import os\n",
    "from tqdm import tqdm\n",
    "\n",
    "def test_reviews(data_dir='data/aclImdb', stop=5000):\n",
    "    \n",
    "    results = []\n",
    "    ground = []\n",
    "    \n",
    "    # We make sure to test both positive and negative reviews    \n",
    "    for sentiment in ['pos', 'neg']:\n",
    "        \n",
    "        path = os.path.join(data_dir, 'test', sentiment, '*.txt')\n",
    "        files = glob.glob(path)\n",
    "        \n",
    "        files_read = 0\n",
    "        \n",
    "        print('Starting ', sentiment, ' files')\n",
    "        \n",
    "        # Iterate through the files and send them to the predictor\n",
    "        for f in tqdm(files):\n",
    "            with open(f) as review:\n",
    "                # First, we store the ground truth (was the review positive or negative)\n",
    "                try:\n",
    "                    # Read in the review and convert to 'utf-8' for transmission via HTTP\n",
    "                    review_input = review.read().encode('utf-8')\n",
    "                    # Send the review to the predictor and store the results\n",
    "                    results.append(float(predictor.predict(review_input)))\n",
    "                    if sentiment == 'pos':\n",
    "                        ground.append(1)\n",
    "                    else:\n",
    "                        ground.append(0)\n",
    "                except:\n",
    "                    pass\n",
    "                #print(results)\n",
    "            # Sending reviews to our endpoint one at a time takes a while so we\n",
    "            # only send a small number of reviews\n",
    "            files_read += 1\n",
    "            if files_read == stop:\n",
    "                break\n",
    "            \n",
    "    return ground, results"
   ]
  },
  {
   "cell_type": "code",
   "execution_count": null,
   "metadata": {
    "scrolled": true
   },
   "outputs": [],
   "source": [
    "ground, results = test_reviews()"
   ]
  },
  {
   "cell_type": "markdown",
   "metadata": {},
   "source": [
    "for idx in tqdm(range(n_test_sample)):\n",
    "    pr_data_X = test_tf_X[idx]\n",
    "    pr_data_len = test_X_tf_len[idx]\n",
    "    pr_data_pack = np.hstack((pr_data_len, pr_data_X))\n",
    "    pr_data_pack = pr_data_pack.reshape(1, -1)\n",
    "    pr_data = torch.from_numpy(pr_data_pack)\n",
    "    pr_data = pr_data.to(device)\n",
    "    model.eval()\n",
    "    result = model(pr_data).detach().numpy()\n",
    "    predicted_values.append(result)"
   ]
  },
  {
   "cell_type": "code",
   "execution_count": null,
   "metadata": {},
   "outputs": [],
   "source": [
    "from sklearn.metrics import roc_auc_score, roc_curve\n",
    "roc_auc = roc_auc_score(ground, results)\n",
    "fpr, tpr, _ = roc_curve(ground, results)"
   ]
  },
  {
   "cell_type": "code",
   "execution_count": null,
   "metadata": {},
   "outputs": [],
   "source": [
    "import matplotlib.pyplot as plt"
   ]
  },
  {
   "cell_type": "code",
   "execution_count": null,
   "metadata": {},
   "outputs": [],
   "source": [
    "plt.figure()\n",
    "lw = 2\n",
    "plt.plot(fpr, tpr, color='darkorange',\n",
    "         lw=lw, label='ROC curve (area = %0.2f)' % roc_auc)\n",
    "plt.plot([0, 1], [0, 1], color='navy', lw=lw, linestyle='--')\n",
    "plt.xlim([0.0, 1.0])\n",
    "plt.ylim([0.0, 1.05])\n",
    "plt.xlabel('False Positive Rate')\n",
    "plt.ylabel('True Positive Rate')\n",
    "plt.title('Receiver operating characteristic example')\n",
    "plt.legend(loc=\"lower right\")\n",
    "plt.show()data:image/png;base64,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"
   ]
  },
  {
   "cell_type": "code",
   "execution_count": null,
   "metadata": {},
   "outputs": [],
   "source": [
    "import numpy as np"
   ]
  },
  {
   "cell_type": "code",
   "execution_count": null,
   "metadata": {},
   "outputs": [],
   "source": [
    "from sklearn.metrics import accuracy_score, confusion_matrix\n",
    "accuracy_score(ground, np.rint(results))"
   ]
  },
  {
   "cell_type": "code",
   "execution_count": null,
   "metadata": {},
   "outputs": [],
   "source": [
    "confusion_matrix(ground, np.rint(results))"
   ]
  },
  {
   "cell_type": "code",
   "execution_count": null,
   "metadata": {},
   "outputs": [],
   "source": []
  },
  {
   "cell_type": "code",
   "execution_count": null,
   "metadata": {},
   "outputs": [],
   "source": []
  }
 ],
 "metadata": {
  "kernelspec": {
   "display_name": ".venv",
   "language": "python",
   "name": ".venv"
  },
  "language_info": {
   "codemirror_mode": {
    "name": "ipython",
    "version": 3
   },
   "file_extension": ".py",
   "mimetype": "text/x-python",
   "name": "python",
   "nbconvert_exporter": "python",
   "pygments_lexer": "ipython3",
   "version": "3.8.5"
  }
 },
 "nbformat": 4,
 "nbformat_minor": 4
}
