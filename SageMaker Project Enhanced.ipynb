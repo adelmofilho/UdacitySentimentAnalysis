{
 "cells": [
  {
   "cell_type": "markdown",
   "metadata": {},
   "source": [
    "## Description"
   ]
  },
  {
   "cell_type": "markdown",
   "metadata": {},
   "source": [
    "This notebook implments modifications over the standard notebook of this project.\n",
    "\n",
    "I have created a validation dataset to be used during the training time in order to prevents overfitting.\n",
    "\n",
    "A hyperparameter job was also implemented in order to explorer better possible models.\n",
    "\n",
    "A marginal gain of 0.01 AUC-ROC was reached in comparison with standard code."
   ]
  },
  {
   "cell_type": "markdown",
   "metadata": {},
   "source": [
    "### Load Packages"
   ]
  },
  {
   "cell_type": "code",
   "execution_count": 2,
   "metadata": {},
   "outputs": [],
   "source": [
    "import os\n",
    "import pandas as pd\n",
    "import torch\n",
    "import torch.utils.data\n",
    "import torch.optim as optim\n",
    "from train.model import LSTMClassifier\n",
    "import matplotlib.pyplot as plt\n",
    "from sklearn.metrics import accuracy_score, confusion_matrix"
   ]
  },
  {
   "cell_type": "code",
   "execution_count": 3,
   "metadata": {},
   "outputs": [],
   "source": [
    "import boto3\n",
    "import sagemaker\n",
    "from sagemaker.pytorch import PyTorch\n",
    "from sagemaker.pytorch import PyTorchModel\n",
    "from sagemaker.predictor import RealTimePredictor\n",
    "from sagemaker.tuner import IntegerParameter, ContinuousParameter, HyperparameterTuner"
   ]
  },
  {
   "cell_type": "code",
   "execution_count": 4,
   "metadata": {},
   "outputs": [],
   "source": [
    "from enhanced.utils import download_data\n",
    "from enhanced.preparation import read_imdb_data, prepare_imdb_data, split_train_validation_data\n",
    "from enhanced.processing import review_to_words, preprocess_data, build_dict\n",
    "from enhanced.processing import update_save_dict, convert_and_pad_data\n",
    "from enhanced.training import train\n",
    "from enhanced.prediction import predict, test_reviews"
   ]
  },
  {
   "cell_type": "markdown",
   "metadata": {},
   "source": [
    "### Configurations"
   ]
  },
  {
   "cell_type": "code",
   "execution_count": 5,
   "metadata": {},
   "outputs": [],
   "source": [
    "# Raw data parameters\n",
    "data_dir = \"data\"\n",
    "raw_folder = \"aclImdb\"\n",
    "data_url = \"http://ai.stanford.edu/~amaas/data/sentiment/aclImdb_v1.tar.gz\"\n",
    "filename = \"aclImdb_v1.tar.gz\"\n",
    "\n",
    "# Data processing parameters\n",
    "vocab_size = 5000\n",
    "sample_idx = 0\n",
    "cache_dir = os.path.join(\"cache\", \"sentiment_analysis\")\n",
    "pytorch_dir = 'data/pytorch'\n",
    "\n",
    "# Sagemaker Parameters\n",
    "region = \"us-east-1\"\n",
    "bucket_prefix = 'sagemaker/sentiment_rnn'\n",
    "account_role = \"arn:aws:iam::977053370764:role/service-role/AmazonSageMaker-ExecutionRole-20201202T141643\"\n",
    "\n",
    "size_pred = 512"
   ]
  },
  {
   "cell_type": "markdown",
   "metadata": {},
   "source": [
    "### Step 1: Downloading the data"
   ]
  },
  {
   "cell_type": "code",
   "execution_count": 6,
   "metadata": {},
   "outputs": [
    {
     "name": "stdout",
     "output_type": "stream",
     "text": [
      "data already downloaded\n"
     ]
    }
   ],
   "source": [
    "download_data(data_dir, data_url, filename)"
   ]
  },
  {
   "cell_type": "markdown",
   "metadata": {},
   "source": [
    "### Step 2: Processing raw data"
   ]
  },
  {
   "cell_type": "code",
   "execution_count": 7,
   "metadata": {},
   "outputs": [],
   "source": [
    "data, labels = read_imdb_data(data_dir, raw_folder)"
   ]
  },
  {
   "cell_type": "code",
   "execution_count": 8,
   "metadata": {},
   "outputs": [
    {
     "name": "stdout",
     "output_type": "stream",
     "text": [
      "IMDB reviews: train = 12500 pos / 12500 neg, test = 12500 pos / 12500 neg\n"
     ]
    }
   ],
   "source": [
    "print(\"IMDB reviews: train = {} pos / {} neg, test = {} pos / {} neg\".format(\n",
    "            len(data['train']['pos']), len(data['train']['neg']),\n",
    "            len(data['test']['pos']), len(data['test']['neg'])))"
   ]
  },
  {
   "cell_type": "markdown",
   "metadata": {},
   "source": [
    "### Step 3: Split train-validation-test data"
   ]
  },
  {
   "cell_type": "code",
   "execution_count": 9,
   "metadata": {},
   "outputs": [],
   "source": [
    "train_valid_X, test_X, train_valid_y, test_y = prepare_imdb_data(data, labels)"
   ]
  },
  {
   "cell_type": "code",
   "execution_count": 10,
   "metadata": {},
   "outputs": [],
   "source": [
    "train_X, valid_X, train_y, valid_y = split_train_validation_data(train_valid_X, train_valid_y, valid_size=0.001)"
   ]
  },
  {
   "cell_type": "code",
   "execution_count": 11,
   "metadata": {},
   "outputs": [
    {
     "name": "stdout",
     "output_type": "stream",
     "text": [
      "IMDb reviews (combined): train = 24975, valid = 25, test = 25000\n"
     ]
    }
   ],
   "source": [
    "print(\"IMDb reviews (combined): train = {}, valid = {}, test = {}\".format(len(train_X), len(valid_X),len(test_X)))"
   ]
  },
  {
   "cell_type": "code",
   "execution_count": 12,
   "metadata": {},
   "outputs": [
    {
     "name": "stdout",
     "output_type": "stream",
     "text": [
      "IMDB reviews: train = 12488 pos / 12487 neg, validation = 12 pos / 13 neg\n"
     ]
    }
   ],
   "source": [
    "print(\"IMDB reviews: train = {} pos / {} neg, validation = {} pos / {} neg\".format(\n",
    "            sum(train_y), len(train_y)-sum(train_y),\n",
    "            sum(valid_y), len(valid_y)-sum(valid_y)))"
   ]
  },
  {
   "cell_type": "markdown",
   "metadata": {},
   "source": [
    "#### Check reviews"
   ]
  },
  {
   "cell_type": "code",
   "execution_count": 13,
   "metadata": {},
   "outputs": [
    {
     "name": "stdout",
     "output_type": "stream",
     "text": [
      "sentiment: 0\n",
      "review: I went in to see D-War on a whim and with very low expectations. The movie failed to meet them.<br /><br />I don't mind stories that stretch credulity - remember Reign of Fire? - but I do expect them to be internally consistent. This film leapt from howler to howler without pausing for breath, all interspersed with special effects that lagged far behind the likes of LOTR or even Godzilla.<br /><br />A shape-shifting mystic warrior from Korea, curiously metamorphosed into a Caucasian antique dealer and popping up like deus ex machina to get the hapless protagonists out of their latest mess. A special agent from the FBI who seems to be completely boned up on ancient Korean folklore because of the Fed's excellent \"paranormal division\" - which has gone unremarked up to this point. Lovers kissing on deserted beaches where one exclaims \"I never meant for this to happen.\" A reincarnated pair of long dead Koreans who \"died like star-crossed lovers.\" Mystic pendants, faceless hordes of robotic soldiers (that owe a lot to Peter Jackson's orcs) and a serpent who wastes so much time roaring that every time its chosen prey is within reach something comes along to distract it.<br /><br />The dialogue is appalling, the acting wooden and the effect of the whole was, to be honest, tedious. However, for me the crowning moment was at the end, after the finale, when the music for the closing credits was - Arirang! This is rather like Akira Kurosawa closing \"Ran\" with a karaoke rendition of My Way - and let me be clear that I am in no way comparing director Shim to Kurosawa.<br /><br />In short, a self indulgent, lackluster collection of clichés and narrative non-sequituurs which may appeal to the sense of the melodramatic so prevalent in Koran popular culture but should not be worth the price of the ticket to any serious movie goer - or even a not so-serious movie goer. I would suggest that this bypass the movie theaters altogether and go straight to video, but I'm not even sure that it's worth that much.\n"
     ]
    }
   ],
   "source": [
    "print(f\"sentiment: {train_y[sample_idx]}\")\n",
    "print(f\"review: {train_X[sample_idx]}\")"
   ]
  },
  {
   "cell_type": "code",
   "execution_count": 14,
   "metadata": {},
   "outputs": [
    {
     "name": "stdout",
     "output_type": "stream",
     "text": [
      "sentiment: 0\n",
      "review: Shintarô Katsu gained tons of fame playing the wonderful character, Zatoichi. The Zatoichi films had a weird and unbelievable concept--a blind guy is the greatest swordsman in Japan and spends each movie righting wrongs and exacting retribution on evil doers. He's a heck of a nice guy and the films are exciting and addictive (I've actually seen every movie). It is because of this I saw this final installment of the Hanzo the Razor series, as I assumed it would be very similar....and boy was I wrong! It turns out that the Hanzo films are extremely sexual in nature and they also promote the rape of \"women who deserve it\". You see, Hanzo is a policeman from the Meiji period and he regularly takes evil women into custody and interrogates them by violently raping them with his \"penis of steel\". How he made his member so strong is something you have to see to believe, but it certainly is NOT for the squeamish.<br /><br />Overall, I just can't recommend anyone sees these violent and misogynistic films. However, from looking at the other reviews, I can see that they are still very popular...and that is pretty scary. Despite some decent acting and amazing fight scenes, the films just are like brain pollution--and I'd hate to imagine how the films might have contributed to violence towards women.\n"
     ]
    }
   ],
   "source": [
    "print(f\"sentiment: {valid_y[sample_idx]}\")\n",
    "print(f\"review: {valid_X[sample_idx]}\")"
   ]
  },
  {
   "cell_type": "code",
   "execution_count": 15,
   "metadata": {},
   "outputs": [
    {
     "name": "stdout",
     "output_type": "stream",
     "text": [
      "sentiment: 0\n",
      "review: There is nothing good to say about this movie. Read Revolution For the Hell of It or any of his other writings. Abbie was often dismissed as the clown-prince of the '60's, but he was a man of ideas who used his cleverness, his sense of humor and pop culture, and his flamboyant personality to get attention to his ideas. The media too often concentrated on the man, not the ideas, and that's the problem with this movie, too. Later in his life he did suffer from depression. But this flick is like a National Enquirer version of Abbie. He deserves better. If you don't know Abbie or his times, this movie won't help.<br /><br /> This film lies. I give it a zero. <br /><br />\n"
     ]
    }
   ],
   "source": [
    "print(f\"sentiment: {test_y[sample_idx]}\")\n",
    "print(f\"review: {test_X[sample_idx]}\")"
   ]
  },
  {
   "cell_type": "markdown",
   "metadata": {},
   "source": [
    "### Step 4: Processing data"
   ]
  },
  {
   "cell_type": "code",
   "execution_count": 17,
   "metadata": {},
   "outputs": [
    {
     "name": "stderr",
     "output_type": "stream",
     "text": [
      "100%|██████████| 24975/24975 [08:42<00:00, 47.80it/s]\n",
      "100%|██████████| 25/25 [00:00<00:00, 58.99it/s]\n",
      "100%|██████████| 25000/25000 [08:31<00:00, 48.87it/s]\n"
     ]
    },
    {
     "name": "stdout",
     "output_type": "stream",
     "text": [
      "Wrote preprocessed data to cache file: preprocessed_data.pkl\n"
     ]
    }
   ],
   "source": [
    "train_pp_X, test_pp_X, valid_pp_X, train_pp_y, test_pp_y, valid_pp_y = preprocess_data(train_X, test_X, valid_X,\n",
    "                                                                           train_y, test_y, valid_y, cache_dir)"
   ]
  },
  {
   "cell_type": "markdown",
   "metadata": {},
   "source": [
    "#### Check tokenization"
   ]
  },
  {
   "cell_type": "code",
   "execution_count": 18,
   "metadata": {},
   "outputs": [
    {
     "name": "stdout",
     "output_type": "stream",
     "text": [
      "['went', 'see', 'war', 'whim', 'low', 'expect', 'movi', 'fail', 'meet', 'mind', 'stori', 'stretch', 'credul', 'rememb', 'reign', 'fire', 'expect', 'intern', 'consist', 'film', 'leapt', 'howler', 'howler', 'without', 'paus', 'breath', 'interspers', 'special', 'effect', 'lag', 'far', 'behind', 'like', 'lotr', 'even', 'godzilla', 'shape', 'shift', 'mystic', 'warrior', 'korea', 'curious', 'metamorphos', 'caucasian', 'antiqu', 'dealer', 'pop', 'like', 'deu', 'ex', 'machina', 'get', 'hapless', 'protagonist', 'latest', 'mess', 'special', 'agent', 'fbi', 'seem', 'complet', 'bone', 'ancient', 'korean', 'folklor', 'fed', 'excel', 'paranorm', 'divis', 'gone', 'unremark', 'point', 'lover', 'kiss', 'desert', 'beach', 'one', 'exclaim', 'never', 'meant', 'happen', 'reincarn', 'pair', 'long', 'dead', 'korean', 'die', 'like', 'star', 'cross', 'lover', 'mystic', 'pendant', 'faceless', 'hord', 'robot', 'soldier', 'owe', 'lot', 'peter', 'jackson', 'orc', 'serpent', 'wast', 'much', 'time', 'roar', 'everi', 'time', 'chosen', 'prey', 'within', 'reach', 'someth', 'come', 'along', 'distract', 'dialogu', 'appal', 'act', 'wooden', 'effect', 'whole', 'honest', 'tediou', 'howev', 'crown', 'moment', 'end', 'final', 'music', 'close', 'credit', 'arirang', 'rather', 'like', 'akira', 'kurosawa', 'close', 'ran', 'karaok', 'rendit', 'way', 'let', 'clear', 'way', 'compar', 'director', 'shim', 'kurosawa', 'short', 'self', 'indulg', 'lacklust', 'collect', 'clich', 'narr', 'non', 'sequituur', 'may', 'appeal', 'sens', 'melodramat', 'preval', 'koran', 'popular', 'cultur', 'worth', 'price', 'ticket', 'seriou', 'movi', 'goer', 'even', 'seriou', 'movi', 'goer', 'would', 'suggest', 'bypass', 'movi', 'theater', 'altogeth', 'go', 'straight', 'video', 'even', 'sure', 'worth', 'much']\n"
     ]
    }
   ],
   "source": [
    "print(review_to_words(train_X[sample_idx]))"
   ]
  },
  {
   "cell_type": "code",
   "execution_count": 19,
   "metadata": {},
   "outputs": [
    {
     "name": "stdout",
     "output_type": "stream",
     "text": [
      "['shintar', 'katsu', 'gain', 'ton', 'fame', 'play', 'wonder', 'charact', 'zatoichi', 'zatoichi', 'film', 'weird', 'unbeliev', 'concept', 'blind', 'guy', 'greatest', 'swordsman', 'japan', 'spend', 'movi', 'right', 'wrong', 'exact', 'retribut', 'evil', 'doer', 'heck', 'nice', 'guy', 'film', 'excit', 'addict', 'actual', 'seen', 'everi', 'movi', 'saw', 'final', 'instal', 'hanzo', 'razor', 'seri', 'assum', 'would', 'similar', 'boy', 'wrong', 'turn', 'hanzo', 'film', 'extrem', 'sexual', 'natur', 'also', 'promot', 'rape', 'women', 'deserv', 'see', 'hanzo', 'policeman', 'meiji', 'period', 'regularli', 'take', 'evil', 'women', 'custodi', 'interrog', 'violent', 'rape', 'peni', 'steel', 'made', 'member', 'strong', 'someth', 'see', 'believ', 'certainli', 'squeamish', 'overal', 'recommend', 'anyon', 'see', 'violent', 'misogynist', 'film', 'howev', 'look', 'review', 'see', 'still', 'popular', 'pretti', 'scari', 'despit', 'decent', 'act', 'amaz', 'fight', 'scene', 'film', 'like', 'brain', 'pollut', 'hate', 'imagin', 'film', 'might', 'contribut', 'violenc', 'toward', 'women']\n"
     ]
    }
   ],
   "source": [
    "print(review_to_words(valid_X[sample_idx]))"
   ]
  },
  {
   "cell_type": "code",
   "execution_count": 20,
   "metadata": {},
   "outputs": [
    {
     "name": "stdout",
     "output_type": "stream",
     "text": [
      "['noth', 'good', 'say', 'movi', 'read', 'revolut', 'hell', 'write', 'abbi', 'often', 'dismiss', 'clown', 'princ', '60', 'man', 'idea', 'use', 'clever', 'sens', 'humor', 'pop', 'cultur', 'flamboy', 'person', 'get', 'attent', 'idea', 'media', 'often', 'concentr', 'man', 'idea', 'problem', 'movi', 'later', 'life', 'suffer', 'depress', 'flick', 'like', 'nation', 'enquir', 'version', 'abbi', 'deserv', 'better', 'know', 'abbi', 'time', 'movi', 'help', 'film', 'lie', 'give', 'zero']\n"
     ]
    }
   ],
   "source": [
    "print(review_to_words(test_X[sample_idx]))"
   ]
  },
  {
   "cell_type": "markdown",
   "metadata": {},
   "source": [
    "### Step 5: Build dictionary"
   ]
  },
  {
   "cell_type": "code",
   "execution_count": 21,
   "metadata": {},
   "outputs": [],
   "source": [
    "word_dict, sorted_words, word_count = build_dict(train_pp_X, vocab_size=vocab_size)"
   ]
  },
  {
   "cell_type": "markdown",
   "metadata": {},
   "source": [
    "#### Check word dictionary"
   ]
  },
  {
   "cell_type": "code",
   "execution_count": 22,
   "metadata": {},
   "outputs": [
    {
     "data": {
      "text/html": [
       "<div>\n",
       "<style scoped>\n",
       "    .dataframe tbody tr th:only-of-type {\n",
       "        vertical-align: middle;\n",
       "    }\n",
       "\n",
       "    .dataframe tbody tr th {\n",
       "        vertical-align: top;\n",
       "    }\n",
       "\n",
       "    .dataframe thead th {\n",
       "        text-align: right;\n",
       "    }\n",
       "</style>\n",
       "<table border=\"1\" class=\"dataframe\">\n",
       "  <thead>\n",
       "    <tr style=\"text-align: right;\">\n",
       "      <th></th>\n",
       "      <th>word</th>\n",
       "      <th>count</th>\n",
       "    </tr>\n",
       "  </thead>\n",
       "  <tbody>\n",
       "    <tr>\n",
       "      <th>30633</th>\n",
       "      <td>movi</td>\n",
       "      <td>51667</td>\n",
       "    </tr>\n",
       "    <tr>\n",
       "      <th>16391</th>\n",
       "      <td>film</td>\n",
       "      <td>48155</td>\n",
       "    </tr>\n",
       "    <tr>\n",
       "      <th>32773</th>\n",
       "      <td>one</td>\n",
       "      <td>27720</td>\n",
       "    </tr>\n",
       "    <tr>\n",
       "      <th>26623</th>\n",
       "      <td>like</td>\n",
       "      <td>22784</td>\n",
       "    </tr>\n",
       "    <tr>\n",
       "      <th>45985</th>\n",
       "      <td>time</td>\n",
       "      <td>16169</td>\n",
       "    </tr>\n",
       "  </tbody>\n",
       "</table>\n",
       "</div>"
      ],
      "text/plain": [
       "       word  count\n",
       "30633  movi  51667\n",
       "16391  film  48155\n",
       "32773   one  27720\n",
       "26623  like  22784\n",
       "45985  time  16169"
      ]
     },
     "execution_count": 22,
     "metadata": {},
     "output_type": "execute_result"
    }
   ],
   "source": [
    "pd.DataFrame(word_count.items(), columns = [\"word\", \"count\"]).sort_values(by=\"count\",ascending=False).head()"
   ]
  },
  {
   "cell_type": "markdown",
   "metadata": {},
   "source": [
    "#### Update word dictionary"
   ]
  },
  {
   "cell_type": "code",
   "execution_count": 82,
   "metadata": {},
   "outputs": [],
   "source": [
    "words_to_remove = [] #[\"film\"] # [] # [\"movi\", \"film\"]"
   ]
  },
  {
   "cell_type": "code",
   "execution_count": 83,
   "metadata": {},
   "outputs": [],
   "source": [
    "updated_dict, new_vocab_size = update_save_dict(word_dict, pytorch_dir, words_to_remove)"
   ]
  },
  {
   "cell_type": "markdown",
   "metadata": {},
   "source": [
    "#### Convert and pad data"
   ]
  },
  {
   "cell_type": "code",
   "execution_count": 84,
   "metadata": {},
   "outputs": [
    {
     "name": "stderr",
     "output_type": "stream",
     "text": [
      "100%|██████████| 24975/24975 [00:00<00:00, 31836.75it/s]\n"
     ]
    }
   ],
   "source": [
    "train_tf_X, train_X_tf_len = convert_and_pad_data(updated_dict, train_pp_X)"
   ]
  },
  {
   "cell_type": "code",
   "execution_count": 85,
   "metadata": {},
   "outputs": [
    {
     "name": "stderr",
     "output_type": "stream",
     "text": [
      "100%|██████████| 25000/25000 [00:01<00:00, 23165.05it/s]\n"
     ]
    }
   ],
   "source": [
    "test_tf_X, test_X_tf_len = convert_and_pad_data(updated_dict, test_pp_X)"
   ]
  },
  {
   "cell_type": "code",
   "execution_count": 86,
   "metadata": {},
   "outputs": [
    {
     "name": "stderr",
     "output_type": "stream",
     "text": [
      "100%|██████████| 25/25 [00:00<00:00, 29119.02it/s]\n"
     ]
    }
   ],
   "source": [
    "valid_tf_X, valid_X_tf_len = convert_and_pad_data(updated_dict, valid_pp_X)"
   ]
  },
  {
   "cell_type": "markdown",
   "metadata": {},
   "source": [
    "### Step 6: Local Training"
   ]
  },
  {
   "cell_type": "code",
   "execution_count": 87,
   "metadata": {},
   "outputs": [],
   "source": [
    "pd.concat([pd.DataFrame(train_y), pd.DataFrame(train_X_tf_len), pd.DataFrame(train_tf_X)], axis=1) \\\n",
    "        .to_csv(os.path.join(pytorch_dir, 'train.csv'), header=False, index=False)\n",
    "\n",
    "pd.concat([pd.DataFrame(valid_y), pd.DataFrame(valid_X_tf_len), pd.DataFrame(valid_tf_X)], axis=1) \\\n",
    "        .to_csv(os.path.join(pytorch_dir, 'valid.csv'), header=False, index=False)"
   ]
  },
  {
   "cell_type": "code",
   "execution_count": 88,
   "metadata": {},
   "outputs": [],
   "source": [
    "# Read in only the first 250 rows\n",
    "train_sample = pd.read_csv(os.path.join(pytorch_dir, 'train.csv'), header=None, names=None, nrows=250)\n",
    "valid_sample = pd.read_csv(os.path.join(pytorch_dir, 'valid.csv'), header=None, names=None, nrows=250)\n",
    "\n",
    "# Turn the input pandas dataframe into tensors\n",
    "train_sample_y = torch.from_numpy(train_sample[[0]].values).float().squeeze()\n",
    "train_sample_X = torch.from_numpy(train_sample.drop([0], axis=1).values).long()\n",
    "\n",
    "valid_sample_y = torch.from_numpy(valid_sample[[0]].values).float().squeeze()\n",
    "valid_sample_X = torch.from_numpy(valid_sample.drop([0], axis=1).values).long()\n",
    "\n",
    "# Build the dataset\n",
    "train_sample_ds = torch.utils.data.TensorDataset(train_sample_X, train_sample_y)\n",
    "valid_sample_ds = torch.utils.data.TensorDataset(valid_sample_X, valid_sample_y)\n",
    "\n",
    "# Build the dataloader\n",
    "train_sample_dl = torch.utils.data.DataLoader(train_sample_ds, batch_size=50)\n",
    "valid_sample_dl = torch.utils.data.DataLoader(valid_sample_ds, batch_size=50)"
   ]
  },
  {
   "cell_type": "code",
   "execution_count": 103,
   "metadata": {},
   "outputs": [
    {
     "name": "stderr",
     "output_type": "stream",
     "text": [
      "100%|██████████| 10/10 [00:23<00:00,  2.32s/it]\n"
     ]
    },
    {
     "data": {
      "image/png": "[encoded data removed]",
      "text/plain": [
       "<Figure size 432x288 with 1 Axes>"
      ]
     },
     "metadata": {
      "needs_background": "light"
     },
     "output_type": "display_data"
    }
   ],
   "source": [
    "device = torch.device(\"cuda\" if torch.cuda.is_available() else \"cpu\")\n",
    "model = LSTMClassifier(32, 30, new_vocab_size).to(device)\n",
    "optimizer = optim.Adam(model.parameters())\n",
    "loss_fn = torch.nn.BCELoss()\n",
    "\n",
    "report_train, trained_model = train(model, train_sample_dl, valid_sample_dl, 10, optimizer, loss_fn, device)"
   ]
  },
  {
   "cell_type": "markdown",
   "metadata": {},
   "source": [
    "### Step 7: Sagemaker Training"
   ]
  },
  {
   "cell_type": "markdown",
   "metadata": {},
   "source": [
    "#### Initial setup"
   ]
  },
  {
   "cell_type": "code",
   "execution_count": 104,
   "metadata": {},
   "outputs": [],
   "source": [
    "sagemaker_session = sagemaker.Session(boto_session=boto3.session.Session(region_name=region))\n",
    "\n",
    "bucket = sagemaker_session.default_bucket()\n",
    "\n",
    "role = account_role"
   ]
  },
  {
   "cell_type": "markdown",
   "metadata": {},
   "source": [
    "#### Upload data"
   ]
  },
  {
   "cell_type": "code",
   "execution_count": 105,
   "metadata": {},
   "outputs": [],
   "source": [
    "input_data = sagemaker_session.upload_data(path=pytorch_dir, bucket=bucket, key_prefix=bucket_prefix)"
   ]
  },
  {
   "cell_type": "markdown",
   "metadata": {},
   "source": [
    "#### Create estimator"
   ]
  },
  {
   "cell_type": "code",
   "execution_count": 106,
   "metadata": {},
   "outputs": [],
   "source": [
    "estimator = PyTorch(entry_point=\"train.py\",\n",
    "                    source_dir=\"enhanced\",\n",
    "                    py_version=\"py3\",\n",
    "                    role=role,\n",
    "                    framework_version='0.4.0',\n",
    "                    train_instance_count=1,\n",
    "                    train_instance_type='ml.p2.xlarge',\n",
    "                    hyperparameters={\"vocab_size\": new_vocab_size\n",
    "                                     })"
   ]
  },
  {
   "cell_type": "code",
   "execution_count": 107,
   "metadata": {},
   "outputs": [],
   "source": [
    "estimator_tuner = HyperparameterTuner(estimator = estimator,\n",
    "                                      objective_metric_name = 'validation:loss',\n",
    "                                      metric_definitions = [{\"Name\": \"validation:loss\",\"Regex\": \"BCELoss: (.*?);\"}],\n",
    "                                      objective_type = 'Minimize',\n",
    "                                      max_jobs = 10, # The total number of models to train\n",
    "                                      max_parallel_jobs = 1, # The number of models to train in parallel\n",
    "                                      hyperparameter_ranges = {\n",
    "                                          'epochs': IntegerParameter(10,20),\n",
    "                                          \"hidden_dim\": IntegerParameter(30,500)\n",
    "                                          \n",
    "                                      }\n",
    "                                     )"
   ]
  },
  {
   "cell_type": "markdown",
   "metadata": {},
   "source": [
    "#### Tunning job"
   ]
  },
  {
   "cell_type": "code",
   "execution_count": 108,
   "metadata": {},
   "outputs": [
    {
     "name": "stderr",
     "output_type": "stream",
     "text": [
      "'create_image_uri' will be deprecated in favor of 'ImageURIProvider' class in SageMaker Python SDK v2.\n",
      "'create_image_uri' will be deprecated in favor of 'ImageURIProvider' class in SageMaker Python SDK v2.\n",
      "'s3_input' class will be renamed to 'TrainingInput' in SageMaker Python SDK v2.\n",
      "'create_image_uri' will be deprecated in favor of 'ImageURIProvider' class in SageMaker Python SDK v2.\n"
     ]
    }
   ],
   "source": [
    "estimator_tuner.fit({'training': input_data})"
   ]
  },
  {
   "cell_type": "code",
   "execution_count": 109,
   "metadata": {
    "scrolled": true
   },
   "outputs": [
    {
     "name": "stdout",
     "output_type": "stream",
     "text": [
      "........................................................................................................................................................................................................................................................................................................................................................................................................................................................................................................................................................................................................................................................................................................................................................................................................................................................................................................................................................................................................................................................................................................................................................................................................................................................................................................................................................................................................................................................................................................................................................................................................................................................................................................................................................................................................................!\n"
     ]
    }
   ],
   "source": [
    "estimator_tuner.wait()"
   ]
  },
  {
   "cell_type": "markdown",
   "metadata": {},
   "source": [
    "#### Create deploy"
   ]
  },
  {
   "cell_type": "code",
   "execution_count": 110,
   "metadata": {},
   "outputs": [],
   "source": [
    "best_model = estimator_tuner.best_training_job()"
   ]
  },
  {
   "cell_type": "code",
   "execution_count": 111,
   "metadata": {},
   "outputs": [
    {
     "name": "stderr",
     "output_type": "stream",
     "text": [
      "Parameter image_name will be renamed to image_uri in SageMaker Python SDK v2.\n"
     ]
    },
    {
     "name": "stdout",
     "output_type": "stream",
     "text": [
      "2020-12-15 04:24:00 Starting - Preparing the instances for training\n",
      "2020-12-15 04:24:00 Downloading - Downloading input data\n",
      "2020-12-15 04:24:00 Training - Training image download completed. Training in progress.\n",
      "2020-12-15 04:24:00 Uploading - Uploading generated training model\n",
      "2020-12-15 04:24:00 Completed - Training job completed\u001b[34mbash: cannot set terminal process group (-1): Inappropriate ioctl for device\u001b[0m\n",
      "\u001b[34mbash: no job control in this shell\u001b[0m\n",
      "\u001b[34m2020-12-15 04:18:50,395 sagemaker-containers INFO     Imported framework sagemaker_pytorch_container.training\u001b[0m\n",
      "\u001b[34m2020-12-15 04:18:50,396 sagemaker-containers INFO     Failed to parse hyperparameter _tuning_objective_metric value validation:loss to Json.\u001b[0m\n",
      "\u001b[34mReturning the value itself\u001b[0m\n",
      "\u001b[34m2020-12-15 04:18:50,426 sagemaker_pytorch_container.training INFO     Block until all host DNS lookups succeed.\u001b[0m\n",
      "\u001b[34m2020-12-15 04:18:51,050 sagemaker_pytorch_container.training INFO     Invoking user training script.\u001b[0m\n",
      "\u001b[34m2020-12-15 04:18:51,314 sagemaker-containers INFO     Module train does not provide a setup.py. \u001b[0m\n",
      "\u001b[34mGenerating setup.py\u001b[0m\n",
      "\u001b[34m2020-12-15 04:18:51,314 sagemaker-containers INFO     Generating setup.cfg\u001b[0m\n",
      "\u001b[34m2020-12-15 04:18:51,315 sagemaker-containers INFO     Generating MANIFEST.in\u001b[0m\n",
      "\u001b[34m2020-12-15 04:18:51,315 sagemaker-containers INFO     Installing module with the following command:\u001b[0m\n",
      "\u001b[34m/usr/bin/python -m pip install -U . -r requirements.txt\u001b[0m\n",
      "\u001b[34mProcessing /opt/ml/code\u001b[0m\n",
      "\u001b[34mCollecting pandas (from -r requirements.txt (line 1))\u001b[0m\n",
      "\u001b[34m  Downloading https://files.pythonhosted.org/packages/74/24/0cdbf8907e1e3bc5a8da03345c23cbed7044330bb8f73bb12e711a640a00/pandas-0.24.2-cp35-cp35m-manylinux1_x86_64.whl (10.0MB)\u001b[0m\n",
      "\u001b[34mCollecting numpy (from -r requirements.txt (line 2))\n",
      "  Downloading https://files.pythonhosted.org/packages/b5/36/88723426b4ff576809fec7d73594fe17a35c27f8d01f93637637a29ae25b/numpy-1.18.5-cp35-cp35m-manylinux1_x86_64.whl (19.9MB)\u001b[0m\n",
      "\u001b[34mCollecting nltk (from -r requirements.txt (line 3))\n",
      "  Downloading https://files.pythonhosted.org/packages/92/75/ce35194d8e3022203cca0d2f896dbb88689f9b3fce8e9f9cff942913519d/nltk-3.5.zip (1.4MB)\u001b[0m\n",
      "\u001b[34mCollecting beautifulsoup4 (from -r requirements.txt (line 4))\n",
      "  Downloading https://files.pythonhosted.org/packages/d1/41/e6495bd7d3781cee623ce23ea6ac73282a373088fcd0ddc809a047b18eae/beautifulsoup4-4.9.3-py3-none-any.whl (115kB)\u001b[0m\n",
      "\u001b[34mCollecting html5lib (from -r requirements.txt (line 5))\n",
      "  Downloading https://files.pythonhosted.org/packages/6c/dd/a834df6482147d48e225a49515aabc28974ad5a4ca3215c18a882565b028/html5lib-1.1-py2.py3-none-any.whl (112kB)\u001b[0m\n",
      "\u001b[34mCollecting pytz>=2011k (from pandas->-r requirements.txt (line 1))\n",
      "  Downloading https://files.pythonhosted.org/packages/12/f8/ff09af6ff61a3efaad5f61ba5facdf17e7722c4393f7d8a66674d2dbd29f/pytz-2020.4-py2.py3-none-any.whl (509kB)\u001b[0m\n",
      "\u001b[34mRequirement already satisfied, skipping upgrade: python-dateutil>=2.5.0 in /usr/local/lib/python3.5/dist-packages (from pandas->-r requirements.txt (line 1)) (2.7.5)\u001b[0m\n",
      "\u001b[34mRequirement already satisfied, skipping upgrade: click in /usr/local/lib/python3.5/dist-packages (from nltk->-r requirements.txt (line 3)) (7.0)\u001b[0m\n",
      "\u001b[34mCollecting joblib (from nltk->-r requirements.txt (line 3))\n",
      "  Downloading https://files.pythonhosted.org/packages/28/5c/cf6a2b65a321c4a209efcdf64c2689efae2cb62661f8f6f4bb28547cf1bf/joblib-0.14.1-py2.py3-none-any.whl (294kB)\u001b[0m\n",
      "\u001b[34mCollecting regex (from nltk->-r requirements.txt (line 3))\u001b[0m\n",
      "\u001b[34m  Downloading https://files.pythonhosted.org/packages/2e/e4/3447fed9ab29944333f48730ecff4dca92f0868c5b188d6ab2b2078e32c2/regex-2020.11.13.tar.gz (694kB)\u001b[0m\n",
      "\u001b[34mCollecting tqdm (from nltk->-r requirements.txt (line 3))\n",
      "  Downloading https://files.pythonhosted.org/packages/8a/54/115f0c28a61d56674c3a5e05c46d6c3523ad196e1dcd3e2d8b119026df36/tqdm-4.54.1-py2.py3-none-any.whl (69kB)\u001b[0m\n",
      "\u001b[34mCollecting soupsieve>1.2; python_version >= \"3.0\" (from beautifulsoup4->-r requirements.txt (line 4))\n",
      "  Downloading https://files.pythonhosted.org/packages/02/fb/1c65691a9aeb7bd6ac2aa505b84cb8b49ac29c976411c6ab3659425e045f/soupsieve-2.1-py3-none-any.whl\u001b[0m\n",
      "\u001b[34mCollecting webencodings (from html5lib->-r requirements.txt (line 5))\n",
      "  Downloading https://files.pythonhosted.org/packages/f4/24/2a3e3df732393fed8b3ebf2ec078f05546de641fe1b667ee316ec1dcf3b7/webencodings-0.5.1-py2.py3-none-any.whl\u001b[0m\n",
      "\u001b[34mRequirement already satisfied, skipping upgrade: six>=1.9 in /usr/local/lib/python3.5/dist-packages (from html5lib->-r requirements.txt (line 5)) (1.11.0)\u001b[0m\n",
      "\u001b[34mBuilding wheels for collected packages: nltk, train, regex\n",
      "  Running setup.py bdist_wheel for nltk: started\u001b[0m\n",
      "\u001b[34m  Running setup.py bdist_wheel for nltk: finished with status 'done'\n",
      "  Stored in directory: /root/.cache/pip/wheels/ae/8c/3f/b1fe0ba04555b08b57ab52ab7f86023639a526d8bc8d384306\n",
      "  Running setup.py bdist_wheel for train: started\u001b[0m\n",
      "\u001b[34m  Running setup.py bdist_wheel for train: finished with status 'done'\n",
      "  Stored in directory: /tmp/pip-ephem-wheel-cache-5_8xk13j/wheels/35/24/16/37574d11bf9bde50616c67372a334f94fa8356bc7164af8ca3\n",
      "  Running setup.py bdist_wheel for regex: started\u001b[0m\n",
      "\u001b[34m  Running setup.py bdist_wheel for regex: finished with status 'done'\n",
      "  Stored in directory: /root/.cache/pip/wheels/27/f6/66/a4243e485a0ebc73dc59033ae26c48e82526f77dbfe158ac59\u001b[0m\n",
      "\u001b[34mSuccessfully built nltk train regex\u001b[0m\n",
      "\u001b[34mInstalling collected packages: pytz, numpy, pandas, joblib, regex, tqdm, nltk, soupsieve, beautifulsoup4, webencodings, html5lib, train\n",
      "  Found existing installation: numpy 1.15.4\n",
      "    Uninstalling numpy-1.15.4:\u001b[0m\n",
      "\u001b[34m      Successfully uninstalled numpy-1.15.4\u001b[0m\n",
      "\u001b[34mSuccessfully installed beautifulsoup4-4.9.3 html5lib-1.1 joblib-0.14.1 nltk-3.5 numpy-1.18.5 pandas-0.24.2 pytz-2020.4 regex-2020.11.13 soupsieve-2.1 tqdm-4.54.1 train-1.0.0 webencodings-0.5.1\u001b[0m\n",
      "\u001b[34mYou are using pip version 18.1, however version 20.3.2 is available.\u001b[0m\n",
      "\u001b[34mYou should consider upgrading via the 'pip install --upgrade pip' command.\u001b[0m\n",
      "\u001b[34m2020-12-15 04:19:14,904 sagemaker-containers INFO     Failed to parse hyperparameter _tuning_objective_metric value validation:loss to Json.\u001b[0m\n",
      "\u001b[34mReturning the value itself\u001b[0m\n",
      "\u001b[34m2020-12-15 04:19:14,931 sagemaker-containers INFO     Invoking user script\n",
      "\u001b[0m\n",
      "\u001b[34mTraining Env:\n",
      "\u001b[0m\n",
      "\u001b[34m{\n",
      "    \"input_data_config\": {\n",
      "        \"training\": {\n",
      "            \"S3DistributionType\": \"FullyReplicated\",\n",
      "            \"RecordWrapperType\": \"None\",\n",
      "            \"TrainingInputMode\": \"File\"\n",
      "        }\n",
      "    },\n",
      "    \"hyperparameters\": {\n",
      "        \"hidden_dim\": 121,\n",
      "        \"epochs\": 20,\n",
      "        \"vocab_size\": 5000\n",
      "    },\n",
      "    \"output_data_dir\": \"/opt/ml/output/data\",\n",
      "    \"log_level\": 20,\n",
      "    \"resource_config\": {\n",
      "        \"current_host\": \"algo-1\",\n",
      "        \"hosts\": [\n",
      "            \"algo-1\"\n",
      "        ],\n",
      "        \"network_interface_name\": \"eth0\"\n",
      "    },\n",
      "    \"module_name\": \"train\",\n",
      "    \"output_dir\": \"/opt/ml/output\",\n",
      "    \"channel_input_dirs\": {\n",
      "        \"training\": \"/opt/ml/input/data/training\"\n",
      "    },\n",
      "    \"input_dir\": \"/opt/ml/input\",\n",
      "    \"num_gpus\": 1,\n",
      "    \"job_name\": \"sagemaker-pytorch-201214-2310-009-a4268530\",\n",
      "    \"current_host\": \"algo-1\",\n",
      "    \"additional_framework_parameters\": {\n",
      "        \"sagemaker_estimator_class_name\": \"PyTorch\",\n",
      "        \"sagemaker_estimator_module\": \"sagemaker.pytorch.estimator\"\n",
      "    },\n",
      "    \"module_dir\": \"s3://sagemaker-us-east-1-977053370764/sagemaker-pytorch-2020-12-15-02-10-18-876/source/sourcedir.tar.gz\",\n",
      "    \"user_entry_point\": \"train.py\",\n",
      "    \"hosts\": [\n",
      "        \"algo-1\"\n",
      "    ],\n",
      "    \"model_dir\": \"/opt/ml/model\",\n",
      "    \"network_interface_name\": \"eth0\",\n",
      "    \"output_intermediate_dir\": \"/opt/ml/output/intermediate\",\n",
      "    \"framework_module\": \"sagemaker_pytorch_container.training:main\",\n",
      "    \"input_config_dir\": \"/opt/ml/input/config\",\n",
      "    \"num_cpus\": 4\u001b[0m\n",
      "\u001b[34m}\n",
      "\u001b[0m\n",
      "\u001b[34mEnvironment variables:\n",
      "\u001b[0m\n",
      "\u001b[34mSM_NUM_GPUS=1\u001b[0m\n",
      "\u001b[34mSM_OUTPUT_DIR=/opt/ml/output\u001b[0m\n",
      "\u001b[34mSM_HPS={\"epochs\":20,\"hidden_dim\":121,\"vocab_size\":5000}\u001b[0m\n",
      "\u001b[34mSM_CHANNEL_TRAINING=/opt/ml/input/data/training\u001b[0m\n",
      "\u001b[34mSM_USER_ARGS=[\"--epochs\",\"20\",\"--hidden_dim\",\"121\",\"--vocab_size\",\"5000\"]\u001b[0m\n",
      "\u001b[34mSM_INPUT_DATA_CONFIG={\"training\":{\"RecordWrapperType\":\"None\",\"S3DistributionType\":\"FullyReplicated\",\"TrainingInputMode\":\"File\"}}\u001b[0m\n",
      "\u001b[34mSM_OUTPUT_DATA_DIR=/opt/ml/output/data\u001b[0m\n",
      "\u001b[34mSM_USER_ENTRY_POINT=train.py\u001b[0m\n",
      "\u001b[34mSM_NETWORK_INTERFACE_NAME=eth0\u001b[0m\n",
      "\u001b[34mSM_HP_VOCAB_SIZE=5000\u001b[0m\n",
      "\u001b[34mSM_TRAINING_ENV={\"additional_framework_parameters\":{\"sagemaker_estimator_class_name\":\"PyTorch\",\"sagemaker_estimator_module\":\"sagemaker.pytorch.estimator\"},\"channel_input_dirs\":{\"training\":\"/opt/ml/input/data/training\"},\"current_host\":\"algo-1\",\"framework_module\":\"sagemaker_pytorch_container.training:main\",\"hosts\":[\"algo-1\"],\"hyperparameters\":{\"epochs\":20,\"hidden_dim\":121,\"vocab_size\":5000},\"input_config_dir\":\"/opt/ml/input/config\",\"input_data_config\":{\"training\":{\"RecordWrapperType\":\"None\",\"S3DistributionType\":\"FullyReplicated\",\"TrainingInputMode\":\"File\"}},\"input_dir\":\"/opt/ml/input\",\"job_name\":\"sagemaker-pytorch-201214-2310-009-a4268530\",\"log_level\":20,\"model_dir\":\"/opt/ml/model\",\"module_dir\":\"s3://sagemaker-us-east-1-977053370764/sagemaker-pytorch-2020-12-15-02-10-18-876/source/sourcedir.tar.gz\",\"module_name\":\"train\",\"network_interface_name\":\"eth0\",\"num_cpus\":4,\"num_gpus\":1,\"output_data_dir\":\"/opt/ml/output/data\",\"output_dir\":\"/opt/ml/output\",\"output_intermediate_dir\":\"/opt/ml/output/intermediate\",\"resource_config\":{\"current_host\":\"algo-1\",\"hosts\":[\"algo-1\"],\"network_interface_name\":\"eth0\"},\"user_entry_point\":\"train.py\"}\u001b[0m\n",
      "\u001b[34mSM_FRAMEWORK_MODULE=sagemaker_pytorch_container.training:main\u001b[0m\n",
      "\u001b[34mSM_INPUT_CONFIG_DIR=/opt/ml/input/config\u001b[0m\n",
      "\u001b[34mSM_CURRENT_HOST=algo-1\u001b[0m\n",
      "\u001b[34mSM_FRAMEWORK_PARAMS={\"sagemaker_estimator_class_name\":\"PyTorch\",\"sagemaker_estimator_module\":\"sagemaker.pytorch.estimator\"}\u001b[0m\n",
      "\u001b[34mSM_MODULE_NAME=train\u001b[0m\n",
      "\u001b[34mPYTHONPATH=/usr/local/bin:/usr/lib/python35.zip:/usr/lib/python3.5:/usr/lib/python3.5/plat-x86_64-linux-gnu:/usr/lib/python3.5/lib-dynload:/usr/local/lib/python3.5/dist-packages:/usr/lib/python3/dist-packages\u001b[0m\n",
      "\u001b[34mSM_NUM_CPUS=4\u001b[0m\n",
      "\u001b[34mSM_RESOURCE_CONFIG={\"current_host\":\"algo-1\",\"hosts\":[\"algo-1\"],\"network_interface_name\":\"eth0\"}\u001b[0m\n",
      "\u001b[34mSM_HP_EPOCHS=20\u001b[0m\n",
      "\u001b[34mSM_MODEL_DIR=/opt/ml/model\u001b[0m\n",
      "\u001b[34mSM_INPUT_DIR=/opt/ml/input\u001b[0m\n",
      "\u001b[34mSM_OUTPUT_INTERMEDIATE_DIR=/opt/ml/output/intermediate\u001b[0m\n",
      "\u001b[34mSM_HP_HIDDEN_DIM=121\u001b[0m\n",
      "\u001b[34mSM_CHANNELS=[\"training\"]\u001b[0m\n",
      "\u001b[34mSM_LOG_LEVEL=20\u001b[0m\n",
      "\u001b[34mSM_HOSTS=[\"algo-1\"]\u001b[0m\n",
      "\u001b[34mSM_MODULE_DIR=s3://sagemaker-us-east-1-977053370764/sagemaker-pytorch-2020-12-15-02-10-18-876/source/sourcedir.tar.gz\n",
      "\u001b[0m\n",
      "\u001b[34mInvoking script with the following command:\n",
      "\u001b[0m\n",
      "\u001b[34m/usr/bin/python -m train --epochs 20 --hidden_dim 121 --vocab_size 5000\n",
      "\n",
      "\u001b[0m\n",
      "\u001b[34mUsing device cuda.\u001b[0m\n",
      "\u001b[34mGet train data loader.\u001b[0m\n",
      "\u001b[34mGet train data loader.\u001b[0m\n",
      "\u001b[34mModel loaded with embedding_dim 32, hidden_dim 121, vocab_size 5000.\u001b[0m\n",
      "\u001b[34mEpoch: 1; BCELoss: 0.6307650804519653;\u001b[0m\n",
      "\u001b[34mEpoch: 2; BCELoss: 0.5980970859527588;\u001b[0m\n",
      "\u001b[34mEpoch: 3; BCELoss: 0.5448551774024963;\u001b[0m\n"
     ]
    },
    {
     "name": "stdout",
     "output_type": "stream",
     "text": [
      "\u001b[34mEpoch: 4; BCELoss: 0.42596566677093506;\u001b[0m\n",
      "\u001b[34mEpoch: 5; BCELoss: 0.3929729163646698;\u001b[0m\n",
      "\u001b[34mEpoch: 6; BCELoss: 0.3318275809288025;\u001b[0m\n",
      "\u001b[34mEpoch: 7; BCELoss: 0.3233320116996765;\u001b[0m\n",
      "\u001b[34mEpoch: 8; BCELoss: 0.28102168440818787;\u001b[0m\n",
      "\u001b[34mEpoch: 9; BCELoss: 0.2678567171096802;\u001b[0m\n",
      "\u001b[34mEpoch: 10; BCELoss: 0.2566576600074768;\u001b[0m\n",
      "\u001b[34mEpoch: 11; BCELoss: 0.19566310942173004;\u001b[0m\n",
      "\u001b[34mEpoch: 12; BCELoss: 0.22133222222328186;\u001b[0m\n",
      "\u001b[34mEpoch: 13; BCELoss: 0.19654566049575806;\u001b[0m\n",
      "\u001b[34mEpoch: 14; BCELoss: 0.23711618781089783;\u001b[0m\n",
      "\u001b[34mEpoch: 15; BCELoss: 0.18776950240135193;\u001b[0m\n",
      "\u001b[34mEpoch: 16; BCELoss: 0.19244743883609772;\u001b[0m\n",
      "\u001b[34mEpoch: 17; BCELoss: 0.19706635177135468;\u001b[0m\n",
      "\u001b[34mEpoch: 18; BCELoss: 0.20140592753887177;\u001b[0m\n",
      "\u001b[34mEpoch: 19; BCELoss: 0.16515566408634186;\u001b[0m\n",
      "\u001b[34mEpoch: 20; BCELoss: 0.17554472386837006;\u001b[0m\n",
      "\u001b[34m2020-12-15 04:22:52,747 sagemaker-containers INFO     Reporting training SUCCESS\u001b[0m\n",
      "Training seconds: 375\n",
      "Billable seconds: 375\n"
     ]
    }
   ],
   "source": [
    "best_estimator = sagemaker.estimator.Estimator.attach(best_model)"
   ]
  },
  {
   "cell_type": "markdown",
   "metadata": {},
   "source": [
    "### Step 8: Sagemaker Deploy"
   ]
  },
  {
   "cell_type": "code",
   "execution_count": 112,
   "metadata": {
    "scrolled": true
   },
   "outputs": [
    {
     "name": "stderr",
     "output_type": "stream",
     "text": [
      "Parameter image will be renamed to image_uri in SageMaker Python SDK v2.\n"
     ]
    }
   ],
   "source": [
    "class StringPredictor(RealTimePredictor):\n",
    "    def __init__(self, endpoint_name, sagemaker_session):\n",
    "        super(StringPredictor, self).__init__(endpoint_name, sagemaker_session, content_type='text/plain')\n",
    "\n",
    "model = PyTorchModel(model_data=best_estimator.model_data,\n",
    "                     role = role,\n",
    "                     framework_version='0.4.0',\n",
    "                     entry_point='predict.py',\n",
    "                     py_version=\"py3\",\n",
    "                     source_dir='serve',\n",
    "                     predictor_cls=StringPredictor)"
   ]
  },
  {
   "cell_type": "code",
   "execution_count": 113,
   "metadata": {
    "scrolled": true
   },
   "outputs": [
    {
     "name": "stderr",
     "output_type": "stream",
     "text": [
      "'create_image_uri' will be deprecated in favor of 'ImageURIProvider' class in SageMaker Python SDK v2.\n"
     ]
    },
    {
     "name": "stdout",
     "output_type": "stream",
     "text": [
      "---------------!"
     ]
    }
   ],
   "source": [
    "endpoint = model.deploy(initial_instance_count=1, instance_type='ml.m4.xlarge')"
   ]
  },
  {
   "cell_type": "code",
   "execution_count": 114,
   "metadata": {},
   "outputs": [
    {
     "data": {
      "text/plain": [
       "'sagemaker-pytorch-2020-12-15-04-45-30-001'"
      ]
     },
     "execution_count": 114,
     "metadata": {},
     "output_type": "execute_result"
    }
   ],
   "source": [
    "endpoint.endpoint"
   ]
  },
  {
   "cell_type": "markdown",
   "metadata": {},
   "source": [
    "#### Predict data"
   ]
  },
  {
   "cell_type": "code",
   "execution_count": 115,
   "metadata": {},
   "outputs": [],
   "source": [
    "import glob\n",
    "import os\n",
    "from tqdm import tqdm\n",
    "import boto3\n",
    "\n",
    "def test_reviews(endpoint_name, data_dir='data/aclImdb', stop=5000):\n",
    "    \n",
    "    client = boto3.client(\"sagemaker-runtime\")\n",
    "    results = []\n",
    "    ground = []\n",
    "    # We make sure to test both positive and negative reviews    \n",
    "    for sentiment in ['pos', 'neg']:\n",
    "        path = os.path.join(data_dir, 'test', sentiment, '*.txt')\n",
    "        files = glob.glob(path)\n",
    "        files_read = 0\n",
    "        print('Starting ', sentiment, ' files')\n",
    "        # Iterate through the files and send them to the predictor\n",
    "        for f in tqdm(files):\n",
    "            with open(f) as review:\n",
    "                # First, we store the ground truth (was the review positive or negative)\n",
    "                try:\n",
    "                    # Read in the review and convert to 'utf-8' for transmission via HTTP\n",
    "                    review_input = review.read().encode('utf-8')\n",
    "                    # Send the review to the predictor and store the results\n",
    "                    response = client.invoke_endpoint(EndpointName=endpoint.endpoint, Body=review_input,ContentType='text/plain')\n",
    "                    results.append(float(response[\"Body\"].read().decode('utf-8')))\n",
    "                    if sentiment == 'pos':\n",
    "                        ground.append(1)\n",
    "                    else:\n",
    "                        ground.append(0)\n",
    "                except:\n",
    "                    pass\n",
    "                #print(results)\n",
    "            # Sending reviews to our endpoint one at a time takes a while so we\n",
    "            # only send a small number of reviews\n",
    "            files_read += 1\n",
    "            if files_read == stop:\n",
    "                break\n",
    "            \n",
    "    return ground, results"
   ]
  },
  {
   "cell_type": "code",
   "execution_count": 116,
   "metadata": {
    "scrolled": false
   },
   "outputs": [
    {
     "name": "stderr",
     "output_type": "stream",
     "text": [
      "\r",
      "  0%|          | 0/12500 [00:00<?, ?it/s]"
     ]
    },
    {
     "name": "stdout",
     "output_type": "stream",
     "text": [
      "Starting  pos  files\n"
     ]
    },
    {
     "name": "stderr",
     "output_type": "stream",
     "text": [
      "  2%|▏         | 249/12500 [01:18<1:04:30,  3.16it/s]\n",
      "  0%|          | 0/12500 [00:00<?, ?it/s]"
     ]
    },
    {
     "name": "stdout",
     "output_type": "stream",
     "text": [
      "Starting  neg  files\n"
     ]
    },
    {
     "name": "stderr",
     "output_type": "stream",
     "text": [
      "  2%|▏         | 249/12500 [01:17<1:03:22,  3.22it/s]\n"
     ]
    }
   ],
   "source": [
    "ground, results = test_reviews(endpoint.endpoint, stop=250)"
   ]
  },
  {
   "cell_type": "markdown",
   "metadata": {},
   "source": [
    "#### Evaluate results"
   ]
  },
  {
   "cell_type": "code",
   "execution_count": 117,
   "metadata": {},
   "outputs": [],
   "source": [
    "from sklearn.metrics import roc_auc_score, roc_curve\n",
    "roc_auc = roc_auc_score(ground, results)\n",
    "fpr, tpr, _ = roc_curve(ground, results)"
   ]
  },
  {
   "cell_type": "code",
   "execution_count": 118,
   "metadata": {},
   "outputs": [
    {
     "data": {
      "image/png": "[encoded data removed]",
      "text/plain": [
       "<Figure size 432x288 with 1 Axes>"
      ]
     },
     "metadata": {
      "needs_background": "light"
     },
     "output_type": "display_data"
    }
   ],
   "source": [
    "plt.figure()\n",
    "lw = 2\n",
    "plt.plot(fpr, tpr, color='darkorange',\n",
    "         lw=lw, label='ROC curve (area = %0.2f)' % roc_auc)\n",
    "plt.plot([0, 1], [0, 1], color='navy', lw=lw, linestyle='--')\n",
    "plt.xlim([0.0, 1.0])\n",
    "plt.ylim([0.0, 1.05])\n",
    "plt.xlabel('False Positive Rate')\n",
    "plt.ylabel('True Positive Rate')\n",
    "plt.title('Receiver operating characteristic example')\n",
    "plt.legend(loc=\"lower right\")\n",
    "plt.show()"
   ]
  },
  {
   "cell_type": "markdown",
   "metadata": {},
   "source": [
    "### Finish"
   ]
  },
  {
   "cell_type": "code",
   "execution_count": 119,
   "metadata": {},
   "outputs": [],
   "source": [
    "endpoint.delete_endpoint()"
   ]
  },
  {
   "cell_type": "markdown",
   "metadata": {},
   "source": [
    "### Website"
   ]
  },
  {
   "cell_type": "markdown",
   "metadata": {},
   "source": [
    "<p align=\"center\">\n",
    "<img src=\"https://i.imgur.com/SCd77Hs.gif\">\n",
    "    </p>"
   ]
  }
 ],
 "metadata": {
  "kernelspec": {
   "display_name": ".venv",
   "language": "python",
   "name": ".venv"
  },
  "language_info": {
   "codemirror_mode": {
    "name": "ipython",
    "version": 3
   },
   "file_extension": ".py",
   "mimetype": "text/x-python",
   "name": "python",
   "nbconvert_exporter": "python",
   "pygments_lexer": "ipython3",
   "version": "3.8.5"
  }
 },
 "nbformat": 4,
 "nbformat_minor": 4
}
